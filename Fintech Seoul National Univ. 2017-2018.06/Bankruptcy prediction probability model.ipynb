{
 "cells": [
  {
   "cell_type": "markdown",
   "metadata": {},
   "source": [
    "# 부도예측 확률모형"
   ]
  },
  {
   "cell_type": "code",
   "execution_count": 1,
   "metadata": {
    "collapsed": true
   },
   "outputs": [],
   "source": [
    "#필요한 모듈 불러오기\n",
    "from pandas import DataFrame, Series\n",
    "import numpy as np\n",
    "import pandas as pd\n",
    "import matplotlib \n",
    "import matplotlib.pyplot as plt\n",
    "import os\n",
    "import seaborn as sb\n",
    "from sklearn.metrics import confusion_matrix\n",
    "from sklearn.linear_model import LogisticRegression, LinearRegression\n",
    "from sklearn.metrics import roc_curve, auc\n",
    "%matplotlib inline"
   ]
  },
  {
   "cell_type": "code",
   "execution_count": 2,
   "metadata": {
    "collapsed": true
   },
   "outputs": [],
   "source": [
    "#클리닝된 데이터 불러오기 \n",
    "data=pd.read_csv(\\Lending_Club_Data_Subsample.csv',engine='python')"
   ]
  },
  {
   "cell_type": "code",
   "execution_count": 3,
   "metadata": {
    "collapsed": true
   },
   "outputs": [],
   "source": [
    "df=DataFrame(data)"
   ]
  },
  {
   "cell_type": "code",
   "execution_count": 4,
   "metadata": {
    "collapsed": true
   },
   "outputs": [],
   "source": [
    "# data를 training set과 test set으로 나누기\n",
    "train, test = np.split(df.sample(frac=1), [int(.8*len(df))])  #끊는 지점 표시 (80% 지점에서 끊어줌)\n",
    "# train, validation, test = np.split(df.sample(frac=1), [int(.6*len(df)), int(.8*len(df))]) # 6:2:2 로 나눔"
   ]
  },
  {
   "cell_type": "code",
   "execution_count": 5,
   "metadata": {},
   "outputs": [
    {
     "data": {
      "text/plain": [
       "(800, 26)"
      ]
     },
     "execution_count": 5,
     "metadata": {},
     "output_type": "execute_result"
    }
   ],
   "source": [
    "#만들어진 training, test data 구조 살펴보기.\n",
    "train.shape"
   ]
  },
  {
   "cell_type": "code",
   "execution_count": 6,
   "metadata": {},
   "outputs": [
    {
     "data": {
      "text/plain": [
       "(200, 26)"
      ]
     },
     "execution_count": 6,
     "metadata": {},
     "output_type": "execute_result"
    }
   ],
   "source": [
    "test.shape"
   ]
  },
  {
   "cell_type": "code",
   "execution_count": 7,
   "metadata": {},
   "outputs": [
    {
     "data": {
      "text/plain": [
       "count    800.000000\n",
       "mean       0.128750\n",
       "std        0.335133\n",
       "min        0.000000\n",
       "25%        0.000000\n",
       "50%        0.000000\n",
       "75%        0.000000\n",
       "max        1.000000\n",
       "Name: bad, dtype: float64"
      ]
     },
     "execution_count": 7,
     "metadata": {},
     "output_type": "execute_result"
    }
   ],
   "source": [
    "# training set과 test set에서의 종속변수 분포 비교하기\n",
    "train.bad.describe()"
   ]
  },
  {
   "cell_type": "code",
   "execution_count": 8,
   "metadata": {},
   "outputs": [
    {
     "data": {
      "text/plain": [
       "count    200.000000\n",
       "mean       0.145000\n",
       "std        0.352984\n",
       "min        0.000000\n",
       "25%        0.000000\n",
       "50%        0.000000\n",
       "75%        0.000000\n",
       "max        1.000000\n",
       "Name: bad, dtype: float64"
      ]
     },
     "execution_count": 8,
     "metadata": {},
     "output_type": "execute_result"
    }
   ],
   "source": [
    "test.bad.describe()"
   ]
  },
  {
   "cell_type": "code",
   "execution_count": 9,
   "metadata": {},
   "outputs": [
    {
     "data": {
      "text/plain": [
       "<matplotlib.axes._subplots.AxesSubplot at 0x1a618f677b8>"
      ]
     },
     "execution_count": 9,
     "metadata": {},
     "output_type": "execute_result"
    },
    {
     "data": {
      "image/png": "[encoded data removed]",
      "text/plain": [
       "<matplotlib.figure.Figure at 0x1a618f67e48>"
      ]
     },
     "metadata": {},
     "output_type": "display_data"
    }
   ],
   "source": [
    "#히스토그램으로 두 데이터 셋의 bad 비율 비교하기\n",
    "(train.bad.value_counts()/len(train)).plot(kind='bar')"
   ]
  },
  {
   "cell_type": "code",
   "execution_count": 10,
   "metadata": {},
   "outputs": [
    {
     "data": {
      "text/plain": [
       "<matplotlib.axes._subplots.AxesSubplot at 0x1a618f8f668>"
      ]
     },
     "execution_count": 10,
     "metadata": {},
     "output_type": "execute_result"
    },
    {
     "data": {
      "image/png": "[encoded data removed]",
      "text/plain": [
       "<matplotlib.figure.Figure at 0x1a6192abbe0>"
      ]
     },
     "metadata": {},
     "output_type": "display_data"
    }
   ],
   "source": [
    "(test.bad.value_counts()/len(test)).plot(kind='bar')"
   ]
  },
  {
   "cell_type": "markdown",
   "metadata": {},
   "source": [
    "# Linear Probability Model (선형 확률 모형)"
   ]
  },
  {
   "cell_type": "code",
   "execution_count": 11,
   "metadata": {
    "collapsed": true
   },
   "outputs": [],
   "source": [
    "#training set의 종속변수와 설명변수를 각각 y_train과 X_train으로 지정\n",
    "y_train = train['bad']\n",
    "X_train = train.drop('bad',axis=1)"
   ]
  },
  {
   "cell_type": "code",
   "execution_count": 12,
   "metadata": {
    "scrolled": true
   },
   "outputs": [
    {
     "data": {
      "text/plain": [
       "LinearRegression(copy_X=True, fit_intercept=False, n_jobs=1, normalize=False)"
      ]
     },
     "execution_count": 12,
     "metadata": {},
     "output_type": "execute_result"
    }
   ],
   "source": [
    "# Linear probability Model\n",
    "# 클리닝 된 데이터에 모든 카테고리가 다 포함되어 있어 perfect multicollinearity를 막기 위해 \n",
    "# intercept가 없는 모형을 추정함. \n",
    "# 간단한 설명 참고: http://www.algosome.com/articles/dummy-variable-trap-regression.html\n",
    "lpm = LinearRegression(fit_intercept=False) \n",
    "lpm.fit(X_train,y_train)"
   ]
  },
  {
   "cell_type": "code",
   "execution_count": 13,
   "metadata": {
    "scrolled": false
   },
   "outputs": [
    {
     "name": "stdout",
     "output_type": "stream",
     "text": [
      "0.0\n",
      "[  2.33270399e-02   8.51503537e-03  -1.74733603e-02   2.94585465e-13\n",
      "   8.00674196e-02   3.38705077e-03   9.10490875e-02   1.23301902e-02\n",
      "   2.29467244e-02   5.91592237e-02   6.78662911e-02   2.65698471e-02\n",
      "  -1.64917618e-06   7.03713045e-05  -4.78490038e-07   1.75934042e-03\n",
      "   5.04640573e-04   1.73391972e-02   3.94980113e-03  -2.48425040e-02\n",
      "  -1.53019533e-03   9.61846886e-02  -2.25438444e-03   5.91578592e-11\n",
      "  -2.51110897e-03]\n"
     ]
    }
   ],
   "source": [
    "#각 변수별 계수 확인하기\n",
    "print(lpm.intercept_)\n",
    "print(lpm.coef_)"
   ]
  },
  {
   "cell_type": "code",
   "execution_count": 14,
   "metadata": {},
   "outputs": [
    {
     "data": {
      "text/html": [
       "<div>\n",
       "<style>\n",
       "    .dataframe thead tr:only-child th {\n",
       "        text-align: right;\n",
       "    }\n",
       "\n",
       "    .dataframe thead th {\n",
       "        text-align: left;\n",
       "    }\n",
       "\n",
       "    .dataframe tbody tr th {\n",
       "        vertical-align: top;\n",
       "    }\n",
       "</style>\n",
       "<table border=\"1\" class=\"dataframe\">\n",
       "  <thead>\n",
       "    <tr style=\"text-align: right;\">\n",
       "      <th></th>\n",
       "      <th>coefficient</th>\n",
       "    </tr>\n",
       "  </thead>\n",
       "  <tbody>\n",
       "    <tr>\n",
       "      <th>purpose_1</th>\n",
       "      <td>2.332704e-02</td>\n",
       "    </tr>\n",
       "    <tr>\n",
       "      <th>purpose_2</th>\n",
       "      <td>8.515035e-03</td>\n",
       "    </tr>\n",
       "    <tr>\n",
       "      <th>purpose_3</th>\n",
       "      <td>-1.747336e-02</td>\n",
       "    </tr>\n",
       "    <tr>\n",
       "      <th>purpose_4</th>\n",
       "      <td>2.945855e-13</td>\n",
       "    </tr>\n",
       "    <tr>\n",
       "      <th>purpose_5</th>\n",
       "      <td>8.006742e-02</td>\n",
       "    </tr>\n",
       "  </tbody>\n",
       "</table>\n",
       "</div>"
      ],
      "text/plain": [
       "            coefficient\n",
       "purpose_1  2.332704e-02\n",
       "purpose_2  8.515035e-03\n",
       "purpose_3 -1.747336e-02\n",
       "purpose_4  2.945855e-13\n",
       "purpose_5  8.006742e-02"
      ]
     },
     "execution_count": 14,
     "metadata": {},
     "output_type": "execute_result"
    }
   ],
   "source": [
    "coeff = DataFrame(lpm.coef_, index=X_train.columns, columns=[\"coefficient\"])\n",
    "coeff.head()"
   ]
  },
  {
   "cell_type": "code",
   "execution_count": 15,
   "metadata": {
    "collapsed": true
   },
   "outputs": [],
   "source": [
    "#계수를 이용한 predicted probability 계산하기\n",
    "train['lpm_pred_prob'] = lpm.predict(X_train)"
   ]
  },
  {
   "cell_type": "code",
   "execution_count": 16,
   "metadata": {
    "scrolled": true
   },
   "outputs": [
    {
     "data": {
      "text/plain": [
       "<matplotlib.axes._subplots.AxesSubplot at 0x1a61944ca58>"
      ]
     },
     "execution_count": 16,
     "metadata": {},
     "output_type": "execute_result"
    },
    {
     "data": {
      "image/png": "[encoded data removed]",
      "text/plain": [
       "<matplotlib.figure.Figure at 0x1a61945a518>"
      ]
     },
     "metadata": {},
     "output_type": "display_data"
    }
   ],
   "source": [
    "#training set의 predicted Probability의 분포 확인하기\n",
    "train.lpm_pred_prob.plot(kind='hist', bins=100) #histogram\n",
    "#train.lpm_pred_prob.plot(kind='kde') #kernel density function"
   ]
  },
  {
   "cell_type": "code",
   "execution_count": 17,
   "metadata": {
    "collapsed": true
   },
   "outputs": [],
   "source": [
    "#test set의 종속변수와 설명변수 지정하기\n",
    "y_test = test['bad']\n",
    "X_test = test.drop('bad',axis=1)"
   ]
  },
  {
   "cell_type": "code",
   "execution_count": 19,
   "metadata": {},
   "outputs": [],
   "source": [
    "#training set에서 계산한 coefficient를 이용하여 test set의 부도 확률을 predict 하기\n",
    "result = lpm.predict(X_test)\n",
    "result = DataFrame(result)\n",
    "result.columns = ['lpm_pred_prob']"
   ]
  },
  {
   "cell_type": "code",
   "execution_count": 22,
   "metadata": {
    "scrolled": true
   },
   "outputs": [
    {
     "data": {
      "text/plain": [
       "<matplotlib.axes._subplots.AxesSubplot at 0x1a61997af98>"
      ]
     },
     "execution_count": 22,
     "metadata": {},
     "output_type": "execute_result"
    },
    {
     "data": {
      "image/png": "[encoded data removed]",
      "text/plain": [
       "<matplotlib.figure.Figure at 0x1a619916898>"
      ]
     },
     "metadata": {},
     "output_type": "display_data"
    }
   ],
   "source": [
    "#test set의 predicted Probability의 분포 확인하기\n",
    "result.lpm_pred_prob.plot(kind='hist', bins=10) #histogram\n",
    "#result.lpm_pred_prob.plot(kind='kde') #kernel density function"
   ]
  },
  {
   "cell_type": "markdown",
   "metadata": {},
   "source": [
    "## AUROC 로 모형 평가하기"
   ]
  },
  {
   "cell_type": "code",
   "execution_count": 23,
   "metadata": {
    "collapsed": true
   },
   "outputs": [],
   "source": [
    "#roc_curve를 이용하여 FPR, TPR, Threshold 설정하기 \n",
    "fpr,tpr,thresholds=roc_curve(test.bad, result.lpm_pred_prob)"
   ]
  },
  {
   "cell_type": "code",
   "execution_count": 24,
   "metadata": {},
   "outputs": [
    {
     "data": {
      "text/plain": [
       "array([ 0.        ,  0.00584795,  0.00584795,  0.01169591,  0.01169591,\n",
       "        0.06432749,  0.06432749,  0.07017544,  0.07017544,  0.08187135,\n",
       "        0.08187135,  0.12280702,  0.12280702,  0.14035088,  0.14035088,\n",
       "        0.21637427,  0.21637427,  0.23976608,  0.23976608,  0.28070175,\n",
       "        0.28070175,  0.30994152,  0.30994152,  0.33918129,  0.33918129,\n",
       "        0.39181287,  0.39181287,  0.40935673,  0.40935673,  0.43859649,\n",
       "        0.43859649,  0.45614035,  0.45614035,  0.48538012,  0.48538012,\n",
       "        0.52046784,  0.52046784,  0.5380117 ,  0.5380117 ,  0.5497076 ,\n",
       "        0.5497076 ,  0.67836257,  0.67836257,  0.68421053,  0.68421053,\n",
       "        0.69590643,  0.69590643,  0.80701754,  0.80701754,  0.9005848 ,\n",
       "        0.9005848 ,  0.97076023,  0.97076023,  1.        ])"
      ]
     },
     "execution_count": 24,
     "metadata": {},
     "output_type": "execute_result"
    }
   ],
   "source": [
    "#False Positive rate(1-specificity=FP/(TN+FP))\n",
    "fpr"
   ]
  },
  {
   "cell_type": "code",
   "execution_count": 25,
   "metadata": {},
   "outputs": [
    {
     "data": {
      "text/plain": [
       "array([ 0.        ,  0.        ,  0.03448276,  0.03448276,  0.06896552,\n",
       "        0.06896552,  0.10344828,  0.10344828,  0.13793103,  0.13793103,\n",
       "        0.17241379,  0.17241379,  0.20689655,  0.20689655,  0.24137931,\n",
       "        0.24137931,  0.27586207,  0.27586207,  0.31034483,  0.31034483,\n",
       "        0.4137931 ,  0.4137931 ,  0.44827586,  0.44827586,  0.51724138,\n",
       "        0.51724138,  0.55172414,  0.55172414,  0.5862069 ,  0.5862069 ,\n",
       "        0.62068966,  0.62068966,  0.65517241,  0.65517241,  0.68965517,\n",
       "        0.68965517,  0.72413793,  0.72413793,  0.75862069,  0.75862069,\n",
       "        0.79310345,  0.79310345,  0.82758621,  0.82758621,  0.86206897,\n",
       "        0.86206897,  0.89655172,  0.89655172,  0.93103448,  0.93103448,\n",
       "        0.96551724,  0.96551724,  1.        ,  1.        ])"
      ]
     },
     "execution_count": 25,
     "metadata": {},
     "output_type": "execute_result"
    }
   ],
   "source": [
    "#True Positive rate(sensitivity=TP/(TP+FN))\n",
    "tpr"
   ]
  },
  {
   "cell_type": "code",
   "execution_count": 26,
   "metadata": {},
   "outputs": [
    {
     "data": {
      "text/plain": [
       "array([ 1.31915784,  0.31915784,  0.29359336,  0.27789834,  0.25931553,\n",
       "        0.2062125 ,  0.2058745 ,  0.20379039,  0.20335367,  0.20167232,\n",
       "        0.19733906,  0.18068641,  0.17882165,  0.17481021,  0.17370487,\n",
       "        0.15823904,  0.15720355,  0.15215633,  0.15205355,  0.14502026,\n",
       "        0.14338399,  0.13779213,  0.1376964 ,  0.13559685,  0.13385649,\n",
       "        0.12736032,  0.12708865,  0.125963  ,  0.12571838,  0.12194979,\n",
       "        0.12172606,  0.11856338,  0.11809595,  0.11473123,  0.11347082,\n",
       "        0.10899143,  0.1084582 ,  0.10598353,  0.10588226,  0.10234523,\n",
       "        0.10123064,  0.08451946,  0.084438  ,  0.08265864,  0.08256489,\n",
       "        0.08158467,  0.08136218,  0.07114218,  0.06832586,  0.04334592,\n",
       "        0.04304135,  0.00284131, -0.00174007, -0.05609083])"
      ]
     },
     "execution_count": 26,
     "metadata": {},
     "output_type": "execute_result"
    }
   ],
   "source": [
    "#Thresholds(cut-off points)\n",
    "thresholds"
   ]
  },
  {
   "cell_type": "code",
   "execution_count": 27,
   "metadata": {},
   "outputs": [
    {
     "data": {
      "text/plain": [
       "0.61000201653559183"
      ]
     },
     "execution_count": 27,
     "metadata": {},
     "output_type": "execute_result"
    }
   ],
   "source": [
    "roc_auc = auc(fpr, tpr)\n",
    "roc_auc"
   ]
  },
  {
   "cell_type": "code",
   "execution_count": 28,
   "metadata": {},
   "outputs": [
    {
     "data": {
      "image/png": "[encoded data removed]",
      "text/plain": [
       "<matplotlib.figure.Figure at 0x1a619a79668>"
      ]
     },
     "metadata": {},
     "output_type": "display_data"
    }
   ],
   "source": [
    "#ROC 커브 그래프에 나타내기\n",
    "\n",
    "#그래프 그리기 시작\n",
    "plt.figure()\n",
    "#x축, y축 지정해주기\n",
    "plt.plot(fpr, tpr, label='ROC curve (area= %0.2f)' % roc_auc)\n",
    "\n",
    "##그래프에 직선 추가하기\n",
    "plt.plot([0,1],[0,1],color='navy', linestyle='--')\n",
    "\n",
    "#x축과 y축 구간 설정하기\n",
    "plt.xlim([0,1])\n",
    "plt.ylim([0,1.05])\n",
    "\n",
    "#축 이름 및 그래프 타이틀, 레전드 추가하기\n",
    "plt.xlabel('False Positive Rate')\n",
    "plt.ylabel('True Positive Rate')\n",
    "plt.title('Receiver Operating Characteristic Curve :LPM')\n",
    "plt.legend(loc=\"lower right\")\n",
    "\n",
    "plt.show()"
   ]
  },
  {
   "cell_type": "code",
   "execution_count": 29,
   "metadata": {},
   "outputs": [
    {
     "data": {
      "text/html": [
       "<div>\n",
       "<style>\n",
       "    .dataframe thead tr:only-child th {\n",
       "        text-align: right;\n",
       "    }\n",
       "\n",
       "    .dataframe thead th {\n",
       "        text-align: left;\n",
       "    }\n",
       "\n",
       "    .dataframe tbody tr th {\n",
       "        vertical-align: top;\n",
       "    }\n",
       "</style>\n",
       "<table border=\"1\" class=\"dataframe\">\n",
       "  <thead>\n",
       "    <tr style=\"text-align: right;\">\n",
       "      <th></th>\n",
       "      <th>fpr</th>\n",
       "      <th>tpr</th>\n",
       "      <th>thresholds</th>\n",
       "      <th>best</th>\n",
       "    </tr>\n",
       "  </thead>\n",
       "  <tbody>\n",
       "    <tr>\n",
       "      <th>0</th>\n",
       "      <td>0.000000</td>\n",
       "      <td>0.000000</td>\n",
       "      <td>1.319158</td>\n",
       "      <td>1.000000</td>\n",
       "    </tr>\n",
       "    <tr>\n",
       "      <th>1</th>\n",
       "      <td>0.005848</td>\n",
       "      <td>0.000000</td>\n",
       "      <td>0.319158</td>\n",
       "      <td>0.994152</td>\n",
       "    </tr>\n",
       "    <tr>\n",
       "      <th>2</th>\n",
       "      <td>0.005848</td>\n",
       "      <td>0.034483</td>\n",
       "      <td>0.293593</td>\n",
       "      <td>1.028635</td>\n",
       "    </tr>\n",
       "    <tr>\n",
       "      <th>3</th>\n",
       "      <td>0.011696</td>\n",
       "      <td>0.034483</td>\n",
       "      <td>0.277898</td>\n",
       "      <td>1.022787</td>\n",
       "    </tr>\n",
       "    <tr>\n",
       "      <th>4</th>\n",
       "      <td>0.011696</td>\n",
       "      <td>0.068966</td>\n",
       "      <td>0.259316</td>\n",
       "      <td>1.057270</td>\n",
       "    </tr>\n",
       "  </tbody>\n",
       "</table>\n",
       "</div>"
      ],
      "text/plain": [
       "        fpr       tpr  thresholds      best\n",
       "0  0.000000  0.000000    1.319158  1.000000\n",
       "1  0.005848  0.000000    0.319158  0.994152\n",
       "2  0.005848  0.034483    0.293593  1.028635\n",
       "3  0.011696  0.034483    0.277898  1.022787\n",
       "4  0.011696  0.068966    0.259316  1.057270"
      ]
     },
     "execution_count": 29,
     "metadata": {},
     "output_type": "execute_result"
    }
   ],
   "source": [
    "#최적 threshold 찾기 \n",
    "\n",
    "#fpr, tpr, threshold 로 구성된 dataframe 생성하기\n",
    "roc_result = DataFrame([fpr,tpr,thresholds], index=['fpr','tpr','thresholds']).T\n",
    "# (1-fpr)+(tpr)값을 계산하여 'best'라는 이름의 칼럼 생성하기\n",
    "roc_result['best'] = (1-roc_result.fpr)+(roc_result.tpr) # specificity + sensitivity\n",
    "roc_result.head()"
   ]
  },
  {
   "cell_type": "markdown",
   "metadata": {},
   "source": [
    "### Linear Probability Model의 문제: 예측 확률이 음수가 되거나 1보다 커지는 경우가 발생. 이에 따라 optimal threshold도 1보다 커지는 문제가 발생할 수 있음"
   ]
  },
  {
   "cell_type": "code",
   "execution_count": 30,
   "metadata": {
    "scrolled": true
   },
   "outputs": [
    {
     "data": {
      "text/plain": [
       "0.101230638449355"
      ]
     },
     "execution_count": 30,
     "metadata": {},
     "output_type": "execute_result"
    }
   ],
   "source": [
    "#최적 threshold는 best의 값이 최대가 될 때의 threshold 값\n",
    "optimal_threshold=roc_result.thresholds[roc_result.best.idxmax()] \n",
    "#roc_result.best.idxmax()는 best값이 max 일때의 index를 의미\n",
    "optimal_threshold"
   ]
  },
  {
   "cell_type": "markdown",
   "metadata": {},
   "source": [
    "# Confusion Matrix 구성하기"
   ]
  },
  {
   "cell_type": "code",
   "execution_count": 31,
   "metadata": {
    "collapsed": true,
    "scrolled": true
   },
   "outputs": [],
   "source": [
    "#각 모형 별로 optimal threshold를 이용하여 binary (0 or 1) 로 예측\n",
    "result['lpm_binary']=np.where(result.lpm_pred_prob>=optimal_threshold,1,0)"
   ]
  },
  {
   "cell_type": "code",
   "execution_count": 32,
   "metadata": {
    "scrolled": true
   },
   "outputs": [
    {
     "data": {
      "text/plain": [
       "array([[77, 94],\n",
       "       [ 6, 23]], dtype=int64)"
      ]
     },
     "execution_count": 32,
     "metadata": {},
     "output_type": "execute_result"
    }
   ],
   "source": [
    "lpm_con = confusion_matrix(y_test, result.lpm_binary)\n",
    "lpm_con"
   ]
  },
  {
   "cell_type": "code",
   "execution_count": 33,
   "metadata": {},
   "outputs": [
    {
     "data": {
      "text/plain": [
       "(77, 94, 6, 23)"
      ]
     },
     "execution_count": 33,
     "metadata": {},
     "output_type": "execute_result"
    }
   ],
   "source": [
    "tn, fp, fn, tp = confusion_matrix(y_test, result.lpm_binary).ravel()\n",
    "(tn, fp, fn, tp)"
   ]
  },
  {
   "cell_type": "code",
   "execution_count": 34,
   "metadata": {},
   "outputs": [
    {
     "data": {
      "text/plain": [
       "0.7931034482758621"
      ]
     },
     "execution_count": 34,
     "metadata": {},
     "output_type": "execute_result"
    }
   ],
   "source": [
    "tp/(tp+fn) # tpr = sensitivity"
   ]
  },
  {
   "cell_type": "code",
   "execution_count": 35,
   "metadata": {
    "scrolled": true
   },
   "outputs": [
    {
     "data": {
      "text/plain": [
       "0.54970760233918126"
      ]
     },
     "execution_count": 35,
     "metadata": {},
     "output_type": "execute_result"
    }
   ],
   "source": [
    "fp/(tn+fp) # fpr = 1-specificity"
   ]
  },
  {
   "cell_type": "code",
   "execution_count": 36,
   "metadata": {
    "scrolled": false
   },
   "outputs": [
    {
     "data": {
      "text/plain": [
       "0.5"
      ]
     },
     "execution_count": 36,
     "metadata": {},
     "output_type": "execute_result"
    }
   ],
   "source": [
    "(tn+tp)/(tn+fp+fn+tp) # accuracy"
   ]
  },
  {
   "cell_type": "markdown",
   "metadata": {},
   "source": [
    "# 실습 예제1\n",
    "## 아래 자료는 어떤 대학원에 지원한 학생들의 입학 허가 여부, GRE 점수, 학점(GPA), 졸업 등수를 나타낸 자료이다."
   ]
  },
  {
   "cell_type": "code",
   "execution_count": 37,
   "metadata": {
    "collapsed": true
   },
   "outputs": [],
   "source": [
    "data1=pd.read_csv(\"https://stats.idre.ucla.edu/stat/data/binary.csv\")"
   ]
  },
  {
   "cell_type": "markdown",
   "metadata": {},
   "source": [
    "### 1) 위의 데이터를 6:4로 나누어 training set과 test set으로 각각 구성하라.\n",
    "### 2) linear probability model을 이용하여 제반 설명 변수가 대학원 입학 허가 여부 확률에 미치는 영향을 추정하라\n",
    "####     (hint: constant 옵션을 설정해야 함).\n",
    "### 3) 추정된 모형으로 out-of-sample test를 하고, test set의 predicted probability의 kernel density function을 그려라.\n",
    "### 4) test set을 이용하여 ROC 커브를 그리고 AUC를 계산하고, sensitivity와 specificity의 합을 가장 높이는 cut-off point를 구하라.\n",
    "### 5) 위에서 구한 cut-off point에서 모형의 accuracy를 구하라."
   ]
  },
  {
   "cell_type": "code",
   "execution_count": 38,
   "metadata": {},
   "outputs": [
    {
     "name": "stdout",
     "output_type": "stream",
     "text": [
      "(400, 4)\n",
      "   admit  gre   gpa  rank\n",
      "0      0  380  3.61     3\n",
      "1      1  660  3.67     3\n",
      "2      1  800  4.00     1\n",
      "3      1  640  3.19     4\n",
      "4      0  520  2.93     4\n"
     ]
    }
   ],
   "source": [
    "print(data1.shape)\n",
    "print(data1.head())"
   ]
  },
  {
   "cell_type": "code",
   "execution_count": 39,
   "metadata": {
    "collapsed": true
   },
   "outputs": [],
   "source": [
    "df1 = DataFrame(data1)"
   ]
  },
  {
   "cell_type": "code",
   "execution_count": 40,
   "metadata": {
    "collapsed": true
   },
   "outputs": [],
   "source": [
    "train1, test1 = np.split(df1.sample(frac=1), [int(.6*len(df1))])"
   ]
  },
  {
   "cell_type": "code",
   "execution_count": 41,
   "metadata": {
    "collapsed": true
   },
   "outputs": [],
   "source": [
    "y_train1 = train1['admit']\n",
    "X_train1 = train1.drop('admit',axis=1)\n",
    "y_test1 = test1['admit']\n",
    "X_test1 = test1.drop('admit',axis=1)"
   ]
  },
  {
   "cell_type": "code",
   "execution_count": 42,
   "metadata": {},
   "outputs": [
    {
     "name": "stdout",
     "output_type": "stream",
     "text": [
      "(240, 4)\n",
      "(160, 4)\n"
     ]
    }
   ],
   "source": [
    "print(train1.shape)\n",
    "print(test1.shape)"
   ]
  },
  {
   "cell_type": "code",
   "execution_count": 43,
   "metadata": {},
   "outputs": [
    {
     "name": "stdout",
     "output_type": "stream",
     "text": [
      "count    240.000000\n",
      "mean       0.287500\n",
      "std        0.453543\n",
      "min        0.000000\n",
      "25%        0.000000\n",
      "50%        0.000000\n",
      "75%        1.000000\n",
      "max        1.000000\n",
      "Name: admit, dtype: float64\n",
      "count    160.000000\n",
      "mean       0.362500\n",
      "std        0.482231\n",
      "min        0.000000\n",
      "25%        0.000000\n",
      "50%        0.000000\n",
      "75%        1.000000\n",
      "max        1.000000\n",
      "Name: admit, dtype: float64\n"
     ]
    }
   ],
   "source": [
    "print(train1.admit.describe())\n",
    "print(test1.admit.describe())"
   ]
  },
  {
   "cell_type": "code",
   "execution_count": 44,
   "metadata": {},
   "outputs": [
    {
     "data": {
      "text/plain": [
       "<matplotlib.axes._subplots.AxesSubplot at 0x1a619b3c940>"
      ]
     },
     "execution_count": 44,
     "metadata": {},
     "output_type": "execute_result"
    },
    {
     "data": {
      "image/png": "[encoded data removed]",
      "text/plain": [
       "<matplotlib.figure.Figure at 0x1a619a52518>"
      ]
     },
     "metadata": {},
     "output_type": "display_data"
    }
   ],
   "source": [
    "(train1.admit.value_counts()/len(train1)).plot(kind='bar')"
   ]
  },
  {
   "cell_type": "code",
   "execution_count": 45,
   "metadata": {},
   "outputs": [
    {
     "data": {
      "text/plain": [
       "<matplotlib.axes._subplots.AxesSubplot at 0x1a619b1deb8>"
      ]
     },
     "execution_count": 45,
     "metadata": {},
     "output_type": "execute_result"
    },
    {
     "data": {
      "image/png": "[encoded data removed]",
      "text/plain": [
       "<matplotlib.figure.Figure at 0x1a619b6b7f0>"
      ]
     },
     "metadata": {},
     "output_type": "display_data"
    }
   ],
   "source": [
    "(test1.admit.value_counts()/len(test1)).plot(kind='bar')"
   ]
  },
  {
   "cell_type": "code",
   "execution_count": 46,
   "metadata": {},
   "outputs": [
    {
     "data": {
      "text/plain": [
       "LinearRegression(copy_X=True, fit_intercept=True, n_jobs=1, normalize=False)"
      ]
     },
     "execution_count": 46,
     "metadata": {},
     "output_type": "execute_result"
    }
   ],
   "source": [
    "lpm = LinearRegression(fit_intercept=True)  \n",
    "lpm.fit(X_train1,y_train1)"
   ]
  },
  {
   "cell_type": "code",
   "execution_count": 47,
   "metadata": {},
   "outputs": [
    {
     "name": "stdout",
     "output_type": "stream",
     "text": [
      "-0.427129880519\n",
      "[ 0.00052851  0.17443642 -0.0758792 ]\n"
     ]
    }
   ],
   "source": [
    "print(lpm.intercept_)\n",
    "print(lpm.coef_)"
   ]
  },
  {
   "cell_type": "code",
   "execution_count": 48,
   "metadata": {
    "collapsed": true
   },
   "outputs": [],
   "source": [
    "train1['pred_prob'] = lpm.predict(X_train1)"
   ]
  },
  {
   "cell_type": "code",
   "execution_count": 49,
   "metadata": {},
   "outputs": [
    {
     "data": {
      "text/plain": [
       "<matplotlib.axes._subplots.AxesSubplot at 0x1a619b6b940>"
      ]
     },
     "execution_count": 49,
     "metadata": {},
     "output_type": "execute_result"
    },
    {
     "data": {
      "image/png": "[encoded data removed]",
      "text/plain": [
       "<matplotlib.figure.Figure at 0x1a619b8b1d0>"
      ]
     },
     "metadata": {},
     "output_type": "display_data"
    }
   ],
   "source": [
    "train1.pred_prob.plot(kind='kde')"
   ]
  },
  {
   "cell_type": "code",
   "execution_count": 51,
   "metadata": {},
   "outputs": [],
   "source": [
    "result1 = lpm.predict(X_test1)\n",
    "result1 = DataFrame(result1)\n",
    "result1.columns=['pred_prob']"
   ]
  },
  {
   "cell_type": "code",
   "execution_count": 52,
   "metadata": {},
   "outputs": [
    {
     "data": {
      "text/plain": [
       "<matplotlib.axes._subplots.AxesSubplot at 0x1a619c197f0>"
      ]
     },
     "execution_count": 52,
     "metadata": {},
     "output_type": "execute_result"
    },
    {
     "data": {
      "image/png": "[encoded data removed]",
      "text/plain": [
       "<matplotlib.figure.Figure at 0x1a619b8b940>"
      ]
     },
     "metadata": {},
     "output_type": "display_data"
    }
   ],
   "source": [
    "result1.pred_prob.plot(kind='kde')"
   ]
  },
  {
   "cell_type": "code",
   "execution_count": 53,
   "metadata": {
    "collapsed": true
   },
   "outputs": [],
   "source": [
    "fpr1,tpr1,thresholds1 = roc_curve(test1.admit, result1.pred_prob)"
   ]
  },
  {
   "cell_type": "code",
   "execution_count": 54,
   "metadata": {},
   "outputs": [
    {
     "data": {
      "text/plain": [
       "0.68145706558485464"
      ]
     },
     "execution_count": 54,
     "metadata": {},
     "output_type": "execute_result"
    }
   ],
   "source": [
    "roc_auc1 = auc(fpr1, tpr1)\n",
    "roc_auc1"
   ]
  },
  {
   "cell_type": "code",
   "execution_count": 55,
   "metadata": {
    "scrolled": true
   },
   "outputs": [
    {
     "data": {
      "image/png": "[encoded data removed]",
      "text/plain": [
       "<matplotlib.figure.Figure at 0x1a619baa208>"
      ]
     },
     "metadata": {},
     "output_type": "display_data"
    }
   ],
   "source": [
    "#ROC 커브 그래프에 나타내기\n",
    "\n",
    "#그래프 그리기 시작\n",
    "plt.figure()\n",
    "#x축, y축 지정해주기\n",
    "plt.plot(fpr1, tpr1, label='ROC curve (area= %0.2f)' % roc_auc1)\n",
    "\n",
    "##그래프에 직선 추가하기\n",
    "plt.plot([0,1],[0,1],color='navy', linestyle='--')\n",
    "\n",
    "#x축과 y축 구간 설정하기\n",
    "plt.xlim([0,1])\n",
    "plt.ylim([0,1.05])\n",
    "\n",
    "#축 이름 및 그래프 타이틀, 레전드 추가하기\n",
    "plt.xlabel('False Positive Rate')\n",
    "plt.ylabel('True Positive Rate')\n",
    "plt.title('Receiver Operating Characteristic Curve :LPM')\n",
    "plt.legend(loc=\"lower right\")\n",
    "\n",
    "plt.show()"
   ]
  },
  {
   "cell_type": "code",
   "execution_count": 56,
   "metadata": {},
   "outputs": [
    {
     "data": {
      "text/html": [
       "<div>\n",
       "<style>\n",
       "    .dataframe thead tr:only-child th {\n",
       "        text-align: right;\n",
       "    }\n",
       "\n",
       "    .dataframe thead th {\n",
       "        text-align: left;\n",
       "    }\n",
       "\n",
       "    .dataframe tbody tr th {\n",
       "        vertical-align: top;\n",
       "    }\n",
       "</style>\n",
       "<table border=\"1\" class=\"dataframe\">\n",
       "  <thead>\n",
       "    <tr style=\"text-align: right;\">\n",
       "      <th></th>\n",
       "      <th>fpr</th>\n",
       "      <th>tpr</th>\n",
       "      <th>thresholds</th>\n",
       "      <th>best</th>\n",
       "    </tr>\n",
       "  </thead>\n",
       "  <tbody>\n",
       "    <tr>\n",
       "      <th>0</th>\n",
       "      <td>0.000000</td>\n",
       "      <td>0.017241</td>\n",
       "      <td>0.617541</td>\n",
       "      <td>1.000000</td>\n",
       "    </tr>\n",
       "    <tr>\n",
       "      <th>1</th>\n",
       "      <td>0.009804</td>\n",
       "      <td>0.017241</td>\n",
       "      <td>0.612308</td>\n",
       "      <td>0.990196</td>\n",
       "    </tr>\n",
       "    <tr>\n",
       "      <th>2</th>\n",
       "      <td>0.009804</td>\n",
       "      <td>0.034483</td>\n",
       "      <td>0.596401</td>\n",
       "      <td>1.024679</td>\n",
       "    </tr>\n",
       "    <tr>\n",
       "      <th>3</th>\n",
       "      <td>0.019608</td>\n",
       "      <td>0.034483</td>\n",
       "      <td>0.570444</td>\n",
       "      <td>1.014875</td>\n",
       "    </tr>\n",
       "    <tr>\n",
       "      <th>4</th>\n",
       "      <td>0.019608</td>\n",
       "      <td>0.051724</td>\n",
       "      <td>0.565211</td>\n",
       "      <td>1.049358</td>\n",
       "    </tr>\n",
       "  </tbody>\n",
       "</table>\n",
       "</div>"
      ],
      "text/plain": [
       "        fpr       tpr  thresholds      best\n",
       "0  0.000000  0.017241    0.617541  1.000000\n",
       "1  0.009804  0.017241    0.612308  0.990196\n",
       "2  0.009804  0.034483    0.596401  1.024679\n",
       "3  0.019608  0.034483    0.570444  1.014875\n",
       "4  0.019608  0.051724    0.565211  1.049358"
      ]
     },
     "execution_count": 56,
     "metadata": {},
     "output_type": "execute_result"
    }
   ],
   "source": [
    "roc_result1 = DataFrame([fpr1,tpr1,thresholds1], index=['fpr','tpr','thresholds']).T\n",
    "roc_result1['best'] = (1-roc_result1.fpr)+(roc_result.tpr)\n",
    "roc_result1.head()"
   ]
  },
  {
   "cell_type": "code",
   "execution_count": 57,
   "metadata": {},
   "outputs": [
    {
     "data": {
      "text/plain": [
       "0.24484988349542558"
      ]
     },
     "execution_count": 57,
     "metadata": {},
     "output_type": "execute_result"
    }
   ],
   "source": [
    "optimal_threshold1 = roc_result1.thresholds[roc_result1.best.idxmax()] \n",
    "optimal_threshold1"
   ]
  },
  {
   "cell_type": "code",
   "execution_count": 58,
   "metadata": {
    "collapsed": true
   },
   "outputs": [],
   "source": [
    "result1['lpm_binary']=np.where(result1.pred_prob>=optimal_threshold1,1,0)"
   ]
  },
  {
   "cell_type": "code",
   "execution_count": 59,
   "metadata": {},
   "outputs": [
    {
     "data": {
      "text/plain": [
       "array([[43, 59],\n",
       "       [14, 44]], dtype=int64)"
      ]
     },
     "execution_count": 59,
     "metadata": {},
     "output_type": "execute_result"
    }
   ],
   "source": [
    "lpm_con1 = confusion_matrix(test1.admit, result1.lpm_binary)\n",
    "lpm_con1"
   ]
  },
  {
   "cell_type": "code",
   "execution_count": 60,
   "metadata": {
    "collapsed": true
   },
   "outputs": [],
   "source": [
    "tn, fp, fn, tp = confusion_matrix(y_test, result.lpm_binary).ravel()\n",
    "accuracy = (tn+tp)/(tn+fp+fn+tp)"
   ]
  },
  {
   "cell_type": "code",
   "execution_count": 61,
   "metadata": {},
   "outputs": [
    {
     "name": "stdout",
     "output_type": "stream",
     "text": [
      "Linear Probability Model의 accuracy는 0.50 이다.\n"
     ]
    }
   ],
   "source": [
    "print(\"Linear Probability Model의 accuracy는 %0.2f 이다.\" %accuracy)"
   ]
  },
  {
   "cell_type": "markdown",
   "metadata": {},
   "source": [
    "# 로지스틱 회귀분석(Logit model)"
   ]
  },
  {
   "cell_type": "code",
   "execution_count": 62,
   "metadata": {},
   "outputs": [
    {
     "data": {
      "text/plain": [
       "LogisticRegression(C=1.0, class_weight=None, dual=False, fit_intercept=False,\n",
       "          intercept_scaling=1, max_iter=100, multi_class='ovr', n_jobs=1,\n",
       "          penalty='l2', random_state=None, solver='liblinear', tol=0.0001,\n",
       "          verbose=0, warm_start=False)"
      ]
     },
     "execution_count": 62,
     "metadata": {},
     "output_type": "execute_result"
    }
   ],
   "source": [
    "#Logistic 회귀분석 모형으로 동일한 training set 분석\n",
    "logit = LogisticRegression(fit_intercept=False)\n",
    "logit.fit(X_train,y_train)"
   ]
  },
  {
   "cell_type": "code",
   "execution_count": 63,
   "metadata": {},
   "outputs": [
    {
     "name": "stdout",
     "output_type": "stream",
     "text": [
      "0.0\n",
      "[[ -3.75429635e-10  -2.79621469e-11  -4.93130825e-11   0.00000000e+00\n",
      "   -5.26253394e-11  -4.95127608e-10  -1.02025955e-11  -2.83573887e-10\n",
      "   -1.31755106e-10  -9.00012105e-11  -4.48014381e-10  -5.73158230e-11\n",
      "   -4.64382963e-06  -1.52763366e-07  -2.79682591e-05  -7.65045758e-09\n",
      "   -8.72660252e-11  -3.53806017e-10  -4.79926437e-09  -2.41593554e-11\n",
      "   -1.06240540e-08  -1.59801646e-11  -2.63343071e-09  -2.69815970e-10\n",
      "   -4.39192776e-09]]\n"
     ]
    }
   ],
   "source": [
    "#변수별 계수 확인하기\n",
    "print(logit.intercept_)\n",
    "print(logit.coef_)"
   ]
  },
  {
   "cell_type": "code",
   "execution_count": 64,
   "metadata": {},
   "outputs": [
    {
     "data": {
      "text/plain": [
       "array([  2.28810981e-01,   8.56498293e-02,   1.59081489e-01,\n",
       "         2.12456584e-01,   3.24040593e-01,   2.37952588e-01,\n",
       "         1.42467743e-01,   2.94059890e-01,   2.88754444e-01,\n",
       "         3.58908511e-02,   1.21041609e-01,   2.44988718e-01,\n",
       "         1.68878396e-01,   1.51391467e-01,   1.44932373e-01,\n",
       "         1.66967089e-01,   1.51285379e-01,   9.56856998e-02,\n",
       "         3.48721212e-01,   2.10804267e-02,   3.38791946e-01,\n",
       "         1.80309845e-01,   7.39253323e-02,   9.98792295e-03,\n",
       "         1.86420769e-01,   3.15437064e-01,   8.09230612e-02,\n",
       "         2.96459581e-01,   3.92963547e-01,   1.53963914e-01,\n",
       "         2.69257623e-01,   4.28937141e-02,   1.03148962e-01,\n",
       "         1.33490691e-01,   1.00271677e-01,   1.04770592e-01,\n",
       "         1.56975473e-01,   7.49794969e-03,   9.82260407e-02,\n",
       "         8.14871385e-02,   7.90271799e-02,   3.18321024e-02,\n",
       "         3.14452006e-01,   1.50578895e-01,   4.11092335e-02,\n",
       "         1.88889619e-01,   7.05695915e-02,   1.91779370e-01,\n",
       "         1.47119768e-01,   2.30057932e-01,   5.06730984e-02,\n",
       "         1.73482198e-01,   2.30529241e-01,   9.56340618e-02,\n",
       "         8.76877726e-02,   8.13196202e-02,   2.04470247e-01,\n",
       "         1.28445544e-01,   1.01343229e-01,   1.39084716e-01,\n",
       "         2.04013380e-01,   1.52892510e-01,   2.47885092e-01,\n",
       "         1.20854745e-01,   1.61778281e-01,   2.39932016e-01,\n",
       "         1.32543489e-01,   1.13940699e-01,   2.92432018e-01,\n",
       "         2.86876574e-01,   2.59878669e-01,   1.43405835e-01,\n",
       "         1.24928469e-01,   7.84459017e-02,   2.70086702e-01,\n",
       "         1.93915912e-01,   2.01059966e-01,   2.92164294e-01,\n",
       "         1.50361040e-01,   2.98340875e-02,   8.29091697e-02,\n",
       "         7.10942285e-02,   1.50008286e-01,   2.80897349e-01,\n",
       "         7.22987847e-02,   1.67679375e-01,   4.24566430e-02,\n",
       "         1.94212606e-01,   1.99025532e-01,   1.06527681e-03,\n",
       "         1.12832407e-01,   1.18178549e-01,   1.03014570e-01,\n",
       "         2.15042579e-01,   2.75064747e-01,   8.01077315e-02,\n",
       "         1.03872943e-01,   7.02452269e-02,   1.72708904e-01,\n",
       "         2.52171909e-01,   2.60779021e-01,   3.56648068e-01,\n",
       "         1.64900055e-03,   2.34975929e-01,   3.49486895e-01,\n",
       "         1.79182640e-01,   1.31327511e-01,   1.86471874e-01,\n",
       "         6.46991392e-02,   1.84450557e-01,   3.28009527e-02,\n",
       "         1.69476777e-01,   2.25699380e-01,   2.54983704e-01,\n",
       "         1.35123557e-01,   2.59421673e-02,   3.21748895e-01,\n",
       "         7.26213834e-02,   1.58568896e-01,   3.01135778e-01,\n",
       "         1.94214726e-01,   3.13250685e-01,   3.56608959e-01,\n",
       "         4.02880640e-02,   8.88056676e-02,   7.01929259e-02,\n",
       "         2.80741476e-01,   2.64238700e-01,   3.63853696e-01,\n",
       "         4.60289519e-02,   3.99573951e-02,   6.33854285e-02,\n",
       "         2.42524382e-01,   2.55995099e-01,   7.37989575e-02,\n",
       "         3.11811228e-02,   1.66651723e-01,   3.04150637e-01,\n",
       "         1.39010181e-01,   3.12303164e-01,   1.69776388e-01,\n",
       "         3.28424775e-01,   2.02410274e-01,   2.29238117e-01,\n",
       "         2.36784836e-01,   1.14684736e-02,   7.25163997e-02,\n",
       "         2.37775056e-01,   1.67574155e-01,   1.55987127e-01,\n",
       "         3.57188412e-02,   3.16527171e-02,   1.63729084e-01,\n",
       "         5.13992657e-02,   1.42058053e-01,   1.59304835e-01,\n",
       "         2.09743073e-02,   3.85234513e-01,   7.68010237e-02,\n",
       "         2.69657280e-01,   1.00380110e-01,   1.05129704e-01,\n",
       "         7.13487814e-02,   1.53794227e-01,   5.67511157e-02,\n",
       "         2.69926519e-01,   1.47346209e-01,   2.33599259e-01,\n",
       "         1.14606249e-01,   3.19659905e-01,   2.08593939e-01,\n",
       "         2.36523113e-01,   9.62264979e-02,   2.42061619e-02,\n",
       "         1.20147964e-01,   2.80351045e-01,   2.16094705e-01,\n",
       "         5.49856976e-03,   1.79596021e-01,   9.25679866e-02,\n",
       "         2.73579540e-01,   3.15123151e-01,   2.48622578e-01,\n",
       "         9.46215233e-02,   1.62362901e-01,   2.11523739e-01,\n",
       "         2.95034179e-01,   1.11331661e-01,   1.80131892e-01,\n",
       "         3.01412852e-01,   6.82102352e-05,   1.12563538e-01,\n",
       "         2.33306329e-01,   1.96254117e-01,   1.95513685e-01,\n",
       "         2.91833765e-01,   2.52283687e-01,   2.65523424e-02,\n",
       "         2.25838220e-01,   2.43515901e-01,   5.49479781e-02,\n",
       "         2.14372845e-01,   3.89047797e-01,   2.57543105e-01,\n",
       "         1.75080987e-01,   7.01260653e-02,   2.52221843e-01,\n",
       "         6.84738903e-02,   1.51889530e-01,   3.15325592e-01,\n",
       "         1.13645296e-01,   2.44232185e-01,   2.42698808e-01,\n",
       "         6.42413846e-02,   1.00779076e-01,   1.85873418e-01,\n",
       "         2.56004212e-01,   2.31055244e-01,   7.65451880e-02,\n",
       "         1.17319364e-01,   3.14176699e-01,   2.91213535e-01,\n",
       "         2.49028210e-01,   1.78767331e-01,   2.36327867e-01,\n",
       "         6.68810113e-02,   2.71504173e-01,   3.69744835e-02,\n",
       "         1.43004330e-01,   4.87871582e-02,   9.67325978e-02,\n",
       "         1.33048699e-01,   6.89809121e-02,   1.57807172e-01,\n",
       "         1.72735939e-01,   1.31648030e-01,   4.88365446e-02,\n",
       "         1.02550803e-01,   2.97683189e-01,   1.12422396e-01,\n",
       "         2.39536587e-01,   1.67791821e-03,   1.12473379e-01,\n",
       "         5.02524353e-02,   1.50055866e-01,   1.32818440e-01,\n",
       "         8.48055686e-02,   1.68077178e-01,   4.49219058e-02,\n",
       "         2.65475407e-02,   1.37388252e-01,   1.18604310e-01,\n",
       "         1.59214141e-01,   2.82992883e-01,   5.20314330e-02,\n",
       "         3.09940614e-01,   1.48165768e-01,   1.62634820e-01,\n",
       "         9.38056034e-02,   1.49299847e-03,   1.62626094e-01,\n",
       "         2.63714907e-01,   2.70418113e-01,   9.46952207e-02,\n",
       "         2.49206704e-03,   3.64302240e-02,   1.51247107e-01,\n",
       "         3.32650383e-01,   9.58551194e-02,   2.27076677e-01,\n",
       "         2.80716010e-01,   1.34917795e-01,   1.58061183e-01,\n",
       "         2.53781704e-01,   1.45079466e-01,   2.40799759e-01,\n",
       "         1.49680953e-01,   3.92572544e-01,   1.41270422e-02,\n",
       "         1.94891716e-01,   1.51433790e-01,   1.11551941e-01,\n",
       "         1.68298371e-01,   2.19443628e-01,   2.84795968e-01,\n",
       "         1.41300207e-01,   2.87884756e-01,   1.45443469e-01,\n",
       "         1.49628940e-01,   1.20579698e-01,   2.78326089e-01,\n",
       "         2.36967300e-01,   7.86489283e-02,   2.71692723e-02,\n",
       "         1.68179592e-01,   1.91768480e-01,   2.54832602e-01,\n",
       "         1.92913124e-01,   2.83057260e-01,   5.39631798e-02,\n",
       "         2.07233581e-01,   3.10690568e-02,   2.43169696e-01,\n",
       "         1.51753598e-01,   1.86694596e-01,   1.88173706e-01,\n",
       "         1.67538758e-01,   2.99075898e-01,   4.05572153e-02,\n",
       "         3.45456213e-02,   2.83606851e-01,   3.37782021e-01,\n",
       "         6.33478427e-02,   1.09051969e-01,   1.80916708e-01,\n",
       "         1.27335295e-01,   2.90007162e-01,   2.93610111e-01,\n",
       "         2.00244685e-01,   2.87260646e-01,   5.14923592e-02,\n",
       "         1.57722463e-01,   1.69013313e-01,   2.39191663e-01,\n",
       "         1.48109276e-01,   1.31996178e-01,   1.17980943e-01,\n",
       "         8.71262760e-02,   7.97938495e-02,   2.28751381e-01,\n",
       "         2.21091530e-01,   9.25216027e-02,   5.71756744e-02,\n",
       "         1.01993120e-01,   7.31211327e-02,   1.06689596e-01,\n",
       "         2.64861451e-01,   1.50392028e-01,   2.74873864e-01,\n",
       "         1.23377026e-01,   4.68683336e-02,   1.47157074e-01,\n",
       "         1.30789614e-01,   3.46625110e-01,   3.27213606e-01,\n",
       "         3.00240906e-02,   3.00703237e-01,   1.06827067e-01,\n",
       "         1.38796222e-01,   1.52347297e-01,   4.15574016e-02,\n",
       "         2.09091765e-02,   8.43391734e-02,   3.03900145e-01,\n",
       "         1.12021086e-01,   1.52949948e-01,   1.11416033e-01,\n",
       "         3.16888897e-01,   1.51816880e-01,   1.16772065e-01,\n",
       "         1.48519595e-01,   1.59688563e-01,   1.56151689e-01,\n",
       "         2.35510976e-01,   3.21273345e-01,   2.60355635e-01,\n",
       "         7.07466572e-02,   2.23537931e-01,   8.68158667e-02,\n",
       "         2.17772944e-01,   1.11774709e-01,   3.01419648e-02,\n",
       "         1.92797432e-01,   2.62752339e-01,   1.51147372e-01,\n",
       "         1.45276485e-01,   1.32942543e-01,   1.49655353e-01,\n",
       "         3.97663408e-01,   1.42740383e-01,   1.03044033e-01,\n",
       "         2.34582932e-01,   1.72861937e-01,   1.86943282e-01,\n",
       "         7.10177732e-02,   1.62597962e-03,   2.21190560e-01,\n",
       "         2.03692611e-02,   2.95474990e-01,   1.30876487e-01,\n",
       "         2.17162019e-01,   2.42937499e-01,   2.97824283e-02,\n",
       "         2.32913604e-01,   2.57099944e-01,   2.89485692e-01,\n",
       "         1.73192313e-01,   3.13323748e-02,   3.91038055e-01,\n",
       "         7.01251835e-02,   2.50642118e-02,   1.39585280e-01,\n",
       "         1.82875180e-01,   1.33565618e-01,   4.71744728e-02,\n",
       "         4.76686520e-02,   1.84200769e-02,   2.48650773e-01,\n",
       "         1.60082333e-01,   4.68456825e-02,   1.43592752e-01,\n",
       "         2.16785176e-01,   2.74203259e-01,   2.18557858e-01,\n",
       "         1.26003473e-01,   3.01619808e-01,   6.67414578e-02,\n",
       "         2.13125680e-01,   2.80968334e-01,   1.53549367e-01,\n",
       "         1.81017298e-01,   2.96238451e-01,   1.97439247e-01,\n",
       "         7.17484631e-02,   4.92347769e-02,   4.37307125e-02,\n",
       "         1.68183263e-01,   2.25938515e-01,   5.47559637e-02,\n",
       "         5.96029722e-02,   2.10895346e-01,   1.45326310e-01,\n",
       "         1.37869892e-01,   2.23427425e-01,   3.19592477e-01,\n",
       "         9.67458595e-02,   2.64325423e-01,   1.50765837e-01,\n",
       "         2.69760084e-02,   1.01031689e-01,   8.08012591e-02,\n",
       "         3.62416844e-01,   6.24175162e-02,   8.46511258e-02,\n",
       "         1.02479565e-01,   3.64387417e-01,   2.10143972e-01,\n",
       "         1.92264015e-01,   3.37451653e-02,   1.83294920e-02,\n",
       "         3.57502638e-01,   2.35647628e-01,   1.18609252e-01,\n",
       "         2.16957784e-01,   2.88635331e-01,   6.15496819e-02,\n",
       "         2.08468513e-01,   2.62411313e-01,   3.16111657e-01,\n",
       "         9.75130414e-02,   1.11901205e-01,   3.00601295e-01,\n",
       "         1.34459245e-02,   5.50396365e-02,   1.67629738e-01,\n",
       "         2.61692699e-01,   2.57238262e-01,   3.10900988e-02,\n",
       "         2.15755042e-01,   3.31915985e-01,   1.07866026e-01,\n",
       "         3.48068567e-01,   1.60634454e-01,   2.40979411e-01,\n",
       "         9.34903170e-02,   2.62938136e-01,   7.36996510e-02,\n",
       "         1.93468134e-01,   5.45281165e-02,   1.17725654e-01,\n",
       "         2.15098886e-01,   6.30909717e-02,   3.85494663e-02,\n",
       "         2.68531112e-01,   2.92333431e-01,   5.42624730e-02,\n",
       "         7.03108796e-02,   3.13677051e-02,   1.48439235e-01,\n",
       "         1.56409739e-01,   2.11820111e-01,   2.50223376e-01,\n",
       "         1.32011161e-01,   2.49461347e-01,   2.13732153e-01,\n",
       "         2.63730986e-02,   2.91976301e-01,   5.22778103e-02,\n",
       "         2.66755191e-01,   1.53801709e-01,   2.18785299e-01,\n",
       "         2.82192139e-01,   1.26878859e-01,   1.93159885e-01,\n",
       "         2.64511981e-01,   3.29585033e-03,   1.48005710e-01,\n",
       "         7.24172743e-02,   3.66859296e-01,   2.42022890e-01,\n",
       "         1.52753572e-01,   2.27669020e-01,   7.49073288e-02,\n",
       "         2.83589078e-01,   2.14586212e-01,   2.44102600e-01,\n",
       "         1.84550774e-01,   1.57739444e-01,   5.93478959e-02,\n",
       "         1.02516006e-01,   1.47222509e-01,   1.80583667e-01,\n",
       "         2.36340241e-01,   1.29592015e-01,   1.38848619e-01,\n",
       "         1.92885858e-01,   4.01248053e-02,   3.04042559e-01,\n",
       "         3.00023169e-01,   2.07177596e-01,   3.25071892e-02,\n",
       "         1.74993901e-01,   8.93125239e-02,   1.33777189e-01,\n",
       "         1.37191526e-01,   1.39130513e-01,   1.06952487e-01,\n",
       "         4.80865256e-02,   2.70146990e-01,   1.96768418e-01,\n",
       "         1.65873993e-01,   2.43902789e-02,   8.49458504e-02,\n",
       "         1.95911552e-02,   9.77935004e-03,   3.06324311e-01,\n",
       "         2.03997316e-01,   2.13114482e-01,   2.66059017e-01,\n",
       "         9.40963113e-02,   8.13377811e-02,   1.07202032e-01,\n",
       "         1.52656745e-01,   9.15118170e-03,   2.96140162e-02,\n",
       "         1.85894949e-01,   9.01152962e-02,   3.46063860e-02,\n",
       "         8.78970064e-02,   2.41628545e-01,   2.65013347e-01,\n",
       "         3.22089875e-03,   3.00071811e-01,   2.30080624e-01,\n",
       "         2.78010152e-01,   1.54372124e-02,   3.07844987e-02,\n",
       "         7.40058100e-02,   1.34179714e-01,   5.63256140e-02,\n",
       "         1.96047983e-01,   1.35976566e-01,   1.81508126e-01,\n",
       "         6.47002577e-02,   1.60736840e-01,   7.44363225e-14,\n",
       "         1.99987025e-01,   2.24817402e-01,   3.39165582e-02,\n",
       "         1.97263914e-01,   1.84059840e-01,   1.77448961e-02,\n",
       "         2.59837525e-01,   1.58173851e-01,   1.21050297e-01,\n",
       "         2.11958680e-01,   5.18074836e-02,   2.53839657e-01,\n",
       "         1.29513470e-01,   3.16170127e-02,   2.29496971e-01,\n",
       "         1.79806362e-02,   1.78728334e-01,   6.34120878e-02,\n",
       "         1.68194575e-01,   2.58488162e-01,   1.94281310e-01,\n",
       "         1.85912467e-01,   1.33782899e-01,   1.02287750e-01,\n",
       "         2.57277370e-01,   1.17573627e-01,   1.49382294e-01,\n",
       "         1.32057836e-01,   1.52828570e-01,   2.92403204e-01,\n",
       "         1.55114482e-01,   7.91335600e-02,   3.37833927e-01,\n",
       "         7.78514813e-02,   1.26213130e-01,   5.10060348e-02,\n",
       "         2.00818168e-01,   1.85390354e-01,   1.97787840e-01,\n",
       "         4.65235456e-02,   1.58023165e-01,   1.24612285e-01,\n",
       "         1.41204692e-02,   5.41490945e-02,   2.31184538e-01,\n",
       "         2.05504342e-01,   1.86411737e-01,   1.47244135e-01,\n",
       "         3.05120552e-02,   2.97891977e-01,   1.61044838e-01,\n",
       "         2.65392254e-01,   1.78667058e-01,   2.49515819e-02,\n",
       "         1.61362547e-01,   2.62553669e-01,   2.33133409e-01,\n",
       "         1.26478032e-01,   2.42581761e-01,   4.57187984e-02,\n",
       "         2.91682188e-01,   8.26922875e-02,   2.22963639e-01,\n",
       "         2.44416817e-01,   2.58028143e-01,   4.89543588e-03,\n",
       "         4.02335575e-02,   2.18386465e-01,   2.35284949e-01,\n",
       "         2.01435516e-01,   3.56925844e-01,   1.42601653e-01,\n",
       "         1.19209718e-01,   5.64885047e-02,   1.13354809e-02,\n",
       "         2.62500144e-01,   1.02763581e-01,   1.68550286e-01,\n",
       "         1.12535549e-01,   3.60836921e-01,   1.78527414e-03,\n",
       "         1.89188464e-01,   2.35545437e-01,   3.22077030e-01,\n",
       "         2.41486412e-01,   2.37553676e-01,   8.75168610e-02,\n",
       "         5.76746466e-02,   1.11269533e-01,   1.75646562e-01,\n",
       "         1.90718850e-01,   2.96333202e-01,   2.91323417e-01,\n",
       "         2.45529209e-01,   2.01552469e-01,   9.64380049e-02,\n",
       "         1.79413295e-02,   1.25083326e-01,   6.42385883e-02,\n",
       "         1.38515451e-01,   1.92769981e-01,   3.23887051e-02,\n",
       "         1.84922276e-01,   1.65452447e-01,   1.26350208e-01,\n",
       "         1.72375552e-01,   3.99234132e-01,   2.09297345e-01,\n",
       "         2.52167536e-01,   1.35194902e-01,   2.82896173e-01,\n",
       "         1.21839391e-01,   1.33985802e-01,   1.71241256e-01,\n",
       "         5.35027340e-02,   1.80115499e-01,   1.10204436e-01,\n",
       "         7.78456724e-02,   6.61133214e-02,   1.72287636e-01,\n",
       "         1.49643911e-01,   1.91178470e-01,   1.23016508e-01,\n",
       "         2.88709888e-01,   1.51146479e-01,   2.64909759e-01,\n",
       "         3.10990869e-01,   2.45479283e-01,   1.67671075e-01,\n",
       "         7.37201381e-02,   1.06935215e-01,   1.10240012e-01,\n",
       "         2.62405856e-01,   1.50554349e-02,   1.14225775e-01,\n",
       "         9.21811410e-02,   1.45111190e-01,   2.31980007e-01,\n",
       "         2.11493191e-01,   1.42464297e-01,   3.83459540e-01,\n",
       "         8.67176921e-02,   1.14728652e-01,   1.19187314e-01,\n",
       "         5.12350427e-02,   2.51680632e-01,   3.34368708e-01,\n",
       "         2.49633697e-01,   2.15425348e-01,   1.70779153e-01,\n",
       "         9.72887300e-02,   2.67107612e-01,   2.65072668e-01,\n",
       "         1.30874909e-01,   9.88751509e-02,   7.66400058e-02,\n",
       "         4.12937813e-02,   2.77714327e-01,   3.20239791e-02,\n",
       "         3.09536298e-01,   1.46548019e-01,   2.82450026e-01,\n",
       "         1.16539977e-01,   1.72411221e-02,   1.36876361e-01,\n",
       "         3.49244174e-02,   1.83248067e-02,   4.72048706e-03,\n",
       "         9.70566306e-02,   3.10724549e-01,   2.93246086e-01,\n",
       "         1.02520991e-01,   9.06731303e-02,   2.10553338e-01,\n",
       "         3.14910682e-02,   9.80813687e-02,   2.69885006e-01,\n",
       "         1.18125734e-01,   2.22302106e-01,   2.04935619e-04,\n",
       "         1.82586131e-01,   1.82841883e-01,   2.57423339e-01,\n",
       "         1.77058350e-01,   2.34313121e-01,   2.59596336e-01,\n",
       "         4.49320370e-02,   9.08836928e-02,   6.67803248e-02,\n",
       "         2.40937356e-01,   3.01012925e-02,   9.44512255e-02,\n",
       "         1.80839702e-01,   6.19583246e-02,   1.55463975e-01,\n",
       "         1.83092719e-02,   3.13631683e-01,   9.46655257e-02,\n",
       "         2.68971641e-01,   1.16490377e-01,   4.79170335e-02,\n",
       "         2.32701321e-01,   2.00194015e-01,   1.48708471e-01,\n",
       "         2.71184669e-01,   1.41433712e-01,   8.58641540e-02,\n",
       "         1.94066961e-01,   1.25844268e-02,   5.31731244e-02,\n",
       "         1.69828312e-01,   2.59642325e-01,   3.81368178e-01,\n",
       "         1.56134228e-01,   1.05226054e-01,   1.82592545e-01,\n",
       "         1.37324860e-01,   1.48726003e-01,   1.33798285e-02,\n",
       "         2.10092564e-01,   1.87929895e-01,   1.80617975e-01,\n",
       "         8.26290694e-02,   1.05553400e-01])"
      ]
     },
     "execution_count": 64,
     "metadata": {},
     "output_type": "execute_result"
    }
   ],
   "source": [
    "#training set에서 예측 확률 계산하기 \n",
    "# logit.predict_proba(X_train) 는 0이 될 확률, 1이 될 확률을 모두 반환함. 두번째 칼럼만 이용.\n",
    "logit.predict_proba(X_train)[:,1]"
   ]
  },
  {
   "cell_type": "code",
   "execution_count": 65,
   "metadata": {
    "collapsed": true
   },
   "outputs": [],
   "source": [
    "#data set에 칼럼으로 추가.\n",
    "train['logit_pred_prob'] = logit.predict_proba(X_train)[:,1]"
   ]
  },
  {
   "cell_type": "code",
   "execution_count": 66,
   "metadata": {
    "scrolled": true
   },
   "outputs": [
    {
     "data": {
      "text/html": [
       "<div>\n",
       "<style>\n",
       "    .dataframe thead tr:only-child th {\n",
       "        text-align: right;\n",
       "    }\n",
       "\n",
       "    .dataframe thead th {\n",
       "        text-align: left;\n",
       "    }\n",
       "\n",
       "    .dataframe tbody tr th {\n",
       "        vertical-align: top;\n",
       "    }\n",
       "</style>\n",
       "<table border=\"1\" class=\"dataframe\">\n",
       "  <thead>\n",
       "    <tr style=\"text-align: right;\">\n",
       "      <th></th>\n",
       "      <th>bad</th>\n",
       "      <th>purpose_1</th>\n",
       "      <th>purpose_2</th>\n",
       "      <th>purpose_3</th>\n",
       "      <th>purpose_4</th>\n",
       "      <th>purpose_5</th>\n",
       "      <th>term_1</th>\n",
       "      <th>term_2</th>\n",
       "      <th>verification_status_1</th>\n",
       "      <th>verification_status_2</th>\n",
       "      <th>...</th>\n",
       "      <th>inq_last_6mths</th>\n",
       "      <th>open_acc</th>\n",
       "      <th>pub_rec</th>\n",
       "      <th>total_acc</th>\n",
       "      <th>pub_rec_bankruptcies</th>\n",
       "      <th>emp_length</th>\n",
       "      <th>pop</th>\n",
       "      <th>urate</th>\n",
       "      <th>lpm_pred_prob</th>\n",
       "      <th>logit_pred_prob</th>\n",
       "    </tr>\n",
       "  </thead>\n",
       "  <tbody>\n",
       "    <tr>\n",
       "      <th>701</th>\n",
       "      <td>0</td>\n",
       "      <td>0</td>\n",
       "      <td>0</td>\n",
       "      <td>0</td>\n",
       "      <td>0</td>\n",
       "      <td>1</td>\n",
       "      <td>1</td>\n",
       "      <td>0</td>\n",
       "      <td>0</td>\n",
       "      <td>1</td>\n",
       "      <td>...</td>\n",
       "      <td>0</td>\n",
       "      <td>6</td>\n",
       "      <td>0</td>\n",
       "      <td>8</td>\n",
       "      <td>0</td>\n",
       "      <td>3</td>\n",
       "      <td>3170574</td>\n",
       "      <td>7.700000</td>\n",
       "      <td>0.158426</td>\n",
       "      <td>0.228811</td>\n",
       "    </tr>\n",
       "    <tr>\n",
       "      <th>732</th>\n",
       "      <td>0</td>\n",
       "      <td>1</td>\n",
       "      <td>0</td>\n",
       "      <td>0</td>\n",
       "      <td>0</td>\n",
       "      <td>0</td>\n",
       "      <td>0</td>\n",
       "      <td>1</td>\n",
       "      <td>0</td>\n",
       "      <td>0</td>\n",
       "      <td>...</td>\n",
       "      <td>0</td>\n",
       "      <td>6</td>\n",
       "      <td>0</td>\n",
       "      <td>18</td>\n",
       "      <td>0</td>\n",
       "      <td>0</td>\n",
       "      <td>17935472</td>\n",
       "      <td>8.112245</td>\n",
       "      <td>0.194650</td>\n",
       "      <td>0.085650</td>\n",
       "    </tr>\n",
       "    <tr>\n",
       "      <th>184</th>\n",
       "      <td>0</td>\n",
       "      <td>1</td>\n",
       "      <td>0</td>\n",
       "      <td>0</td>\n",
       "      <td>0</td>\n",
       "      <td>0</td>\n",
       "      <td>1</td>\n",
       "      <td>0</td>\n",
       "      <td>0</td>\n",
       "      <td>0</td>\n",
       "      <td>...</td>\n",
       "      <td>0</td>\n",
       "      <td>9</td>\n",
       "      <td>0</td>\n",
       "      <td>34</td>\n",
       "      <td>0</td>\n",
       "      <td>8</td>\n",
       "      <td>4581520</td>\n",
       "      <td>10.111111</td>\n",
       "      <td>0.061933</td>\n",
       "      <td>0.159081</td>\n",
       "    </tr>\n",
       "    <tr>\n",
       "      <th>579</th>\n",
       "      <td>0</td>\n",
       "      <td>1</td>\n",
       "      <td>0</td>\n",
       "      <td>0</td>\n",
       "      <td>0</td>\n",
       "      <td>0</td>\n",
       "      <td>1</td>\n",
       "      <td>0</td>\n",
       "      <td>0</td>\n",
       "      <td>1</td>\n",
       "      <td>...</td>\n",
       "      <td>0</td>\n",
       "      <td>9</td>\n",
       "      <td>0</td>\n",
       "      <td>19</td>\n",
       "      <td>0</td>\n",
       "      <td>10</td>\n",
       "      <td>18968530</td>\n",
       "      <td>9.643903</td>\n",
       "      <td>0.099664</td>\n",
       "      <td>0.212457</td>\n",
       "    </tr>\n",
       "    <tr>\n",
       "      <th>764</th>\n",
       "      <td>0</td>\n",
       "      <td>1</td>\n",
       "      <td>0</td>\n",
       "      <td>0</td>\n",
       "      <td>0</td>\n",
       "      <td>0</td>\n",
       "      <td>1</td>\n",
       "      <td>0</td>\n",
       "      <td>1</td>\n",
       "      <td>0</td>\n",
       "      <td>...</td>\n",
       "      <td>3</td>\n",
       "      <td>17</td>\n",
       "      <td>0</td>\n",
       "      <td>27</td>\n",
       "      <td>0</td>\n",
       "      <td>5</td>\n",
       "      <td>4849463</td>\n",
       "      <td>10.337037</td>\n",
       "      <td>0.184378</td>\n",
       "      <td>0.324041</td>\n",
       "    </tr>\n",
       "  </tbody>\n",
       "</table>\n",
       "<p>5 rows × 28 columns</p>\n",
       "</div>"
      ],
      "text/plain": [
       "     bad  purpose_1  purpose_2  purpose_3  purpose_4  purpose_5  term_1  \\\n",
       "701    0          0          0          0          0          1       1   \n",
       "732    0          1          0          0          0          0       0   \n",
       "184    0          1          0          0          0          0       1   \n",
       "579    0          1          0          0          0          0       1   \n",
       "764    0          1          0          0          0          0       1   \n",
       "\n",
       "     term_2  verification_status_1  verification_status_2       ...         \\\n",
       "701       0                      0                      1       ...          \n",
       "732       1                      0                      0       ...          \n",
       "184       0                      0                      0       ...          \n",
       "579       0                      0                      1       ...          \n",
       "764       0                      1                      0       ...          \n",
       "\n",
       "     inq_last_6mths  open_acc  pub_rec  total_acc  pub_rec_bankruptcies  \\\n",
       "701               0         6        0          8                     0   \n",
       "732               0         6        0         18                     0   \n",
       "184               0         9        0         34                     0   \n",
       "579               0         9        0         19                     0   \n",
       "764               3        17        0         27                     0   \n",
       "\n",
       "     emp_length       pop      urate  lpm_pred_prob  logit_pred_prob  \n",
       "701           3   3170574   7.700000       0.158426         0.228811  \n",
       "732           0  17935472   8.112245       0.194650         0.085650  \n",
       "184           8   4581520  10.111111       0.061933         0.159081  \n",
       "579          10  18968530   9.643903       0.099664         0.212457  \n",
       "764           5   4849463  10.337037       0.184378         0.324041  \n",
       "\n",
       "[5 rows x 28 columns]"
      ]
     },
     "execution_count": 66,
     "metadata": {},
     "output_type": "execute_result"
    }
   ],
   "source": [
    "train.head()"
   ]
  },
  {
   "cell_type": "code",
   "execution_count": 67,
   "metadata": {},
   "outputs": [
    {
     "data": {
      "text/plain": [
       "<matplotlib.axes._subplots.AxesSubplot at 0x1a619d36390>"
      ]
     },
     "execution_count": 67,
     "metadata": {},
     "output_type": "execute_result"
    },
    {
     "data": {
      "image/png": "[encoded data removed]",
      "text/plain": [
       "<matplotlib.figure.Figure at 0x1a619b98240>"
      ]
     },
     "metadata": {},
     "output_type": "display_data"
    }
   ],
   "source": [
    "#predicted prob 분포 확인하기\n",
    "train.logit_pred_prob.plot(kind='hist',bins=10, xlim=([-1,1]))\n",
    "#train.logit_predict.plot(kind='kde',xlim=([-1,1]))"
   ]
  },
  {
   "cell_type": "code",
   "execution_count": 68,
   "metadata": {
    "collapsed": true
   },
   "outputs": [],
   "source": [
    "#logit 결과를 test set에 predict해서 result에 저장 \n",
    "result['logit_pred_prob'] = logit.predict_proba(X_test)[:,1]"
   ]
  },
  {
   "cell_type": "code",
   "execution_count": 69,
   "metadata": {},
   "outputs": [
    {
     "data": {
      "text/plain": [
       "<matplotlib.axes._subplots.AxesSubplot at 0x1a619d3cac8>"
      ]
     },
     "execution_count": 69,
     "metadata": {},
     "output_type": "execute_result"
    },
    {
     "data": {
      "image/png": "[encoded data removed]",
      "text/plain": [
       "<matplotlib.figure.Figure at 0x1a619aced30>"
      ]
     },
     "metadata": {},
     "output_type": "display_data"
    }
   ],
   "source": [
    "#분포 확인하기 \n",
    "result.logit_pred_prob.plot(kind='hist',bins=10, xlim=([-1,1]))\n",
    "#test.logit_predict.plot(kind='kde', xlim=([0,1]))"
   ]
  },
  {
   "cell_type": "code",
   "execution_count": 70,
   "metadata": {
    "collapsed": true
   },
   "outputs": [],
   "source": [
    "#lpm과 동일하게 logit에도 auc, roc 구하는 방법 적용\n",
    "#roc_curve를 이용하여 FPR, TPR, Threshold 설정하기 \n",
    "fpr_logit,tpr_logit,thresholds_logit = roc_curve(test.bad, result.logit_pred_prob)"
   ]
  },
  {
   "cell_type": "code",
   "execution_count": 71,
   "metadata": {},
   "outputs": [
    {
     "data": {
      "text/plain": [
       "0.47570074611816904"
      ]
     },
     "execution_count": 71,
     "metadata": {},
     "output_type": "execute_result"
    }
   ],
   "source": [
    "#auc 구하기\n",
    "roc_auc_logit = auc(fpr_logit, tpr_logit)\n",
    "roc_auc_logit"
   ]
  },
  {
   "cell_type": "code",
   "execution_count": 72,
   "metadata": {},
   "outputs": [
    {
     "data": {
      "image/png": "[encoded data removed]",
      "text/plain": [
       "<matplotlib.figure.Figure at 0x1a619b072b0>"
      ]
     },
     "metadata": {},
     "output_type": "display_data"
    }
   ],
   "source": [
    "#lpm과 동일한 방법으로 AUROC 그리기\n",
    "\n",
    "plt.figure()\n",
    "plt.plot(fpr_logit, tpr_logit, label='ROC curve (area= %0.2f)' % roc_auc_logit)\n",
    "\n",
    "##그래프에 직선 추가하기\n",
    "plt.plot([0,1],[0,1],color='navy', linestyle='--')\n",
    "\n",
    "#x축과 y축 구간 설정하기\n",
    "plt.xlim([0,1])\n",
    "plt.ylim([0,1.05])\n",
    "\n",
    "#축 이름 및 그래프 타이틀, 레전드 추가하기\n",
    "plt.xlabel('False Positive Rate')\n",
    "plt.ylabel('True Positive Rate')\n",
    "plt.title('Receiver Operating Characteristic Curve :Logit')\n",
    "plt.legend(loc=\"lower right\")\n",
    "\n",
    "plt.show()"
   ]
  },
  {
   "cell_type": "code",
   "execution_count": 73,
   "metadata": {},
   "outputs": [
    {
     "data": {
      "text/html": [
       "<div>\n",
       "<style>\n",
       "    .dataframe thead tr:only-child th {\n",
       "        text-align: right;\n",
       "    }\n",
       "\n",
       "    .dataframe thead th {\n",
       "        text-align: left;\n",
       "    }\n",
       "\n",
       "    .dataframe tbody tr th {\n",
       "        vertical-align: top;\n",
       "    }\n",
       "</style>\n",
       "<table border=\"1\" class=\"dataframe\">\n",
       "  <thead>\n",
       "    <tr style=\"text-align: right;\">\n",
       "      <th></th>\n",
       "      <th>fpr_logit</th>\n",
       "      <th>tpr_logit</th>\n",
       "      <th>thresholds_logit</th>\n",
       "      <th>best</th>\n",
       "    </tr>\n",
       "  </thead>\n",
       "  <tbody>\n",
       "    <tr>\n",
       "      <th>0</th>\n",
       "      <td>0.000000</td>\n",
       "      <td>0.000000</td>\n",
       "      <td>1.382904</td>\n",
       "      <td>1.000000</td>\n",
       "    </tr>\n",
       "    <tr>\n",
       "      <th>1</th>\n",
       "      <td>0.005848</td>\n",
       "      <td>0.000000</td>\n",
       "      <td>0.382904</td>\n",
       "      <td>0.994152</td>\n",
       "    </tr>\n",
       "    <tr>\n",
       "      <th>2</th>\n",
       "      <td>0.023392</td>\n",
       "      <td>0.000000</td>\n",
       "      <td>0.351604</td>\n",
       "      <td>0.976608</td>\n",
       "    </tr>\n",
       "    <tr>\n",
       "      <th>3</th>\n",
       "      <td>0.023392</td>\n",
       "      <td>0.034483</td>\n",
       "      <td>0.346618</td>\n",
       "      <td>1.011091</td>\n",
       "    </tr>\n",
       "    <tr>\n",
       "      <th>4</th>\n",
       "      <td>0.046784</td>\n",
       "      <td>0.034483</td>\n",
       "      <td>0.321358</td>\n",
       "      <td>0.987699</td>\n",
       "    </tr>\n",
       "  </tbody>\n",
       "</table>\n",
       "</div>"
      ],
      "text/plain": [
       "   fpr_logit  tpr_logit  thresholds_logit      best\n",
       "0   0.000000   0.000000          1.382904  1.000000\n",
       "1   0.005848   0.000000          0.382904  0.994152\n",
       "2   0.023392   0.000000          0.351604  0.976608\n",
       "3   0.023392   0.034483          0.346618  1.011091\n",
       "4   0.046784   0.034483          0.321358  0.987699"
      ]
     },
     "execution_count": 73,
     "metadata": {},
     "output_type": "execute_result"
    }
   ],
   "source": [
    "#logit에서 최적 threshold 찾기 (lpm과 방법 동일)\n",
    "roc_result = DataFrame([fpr_logit,tpr_logit,thresholds_logit], index=['fpr_logit','tpr_logit','thresholds_logit']).T\n",
    "roc_result['best'] = (1-roc_result['fpr_logit'])+(roc_result['tpr_logit'])\n",
    "roc_result.head()"
   ]
  },
  {
   "cell_type": "code",
   "execution_count": 74,
   "metadata": {},
   "outputs": [
    {
     "data": {
      "text/plain": [
       "0.078860320222999505"
      ]
     },
     "execution_count": 74,
     "metadata": {},
     "output_type": "execute_result"
    }
   ],
   "source": [
    "optimal_threshold_logit=roc_result.thresholds_logit[roc_result.best.idxmax()]\n",
    "optimal_threshold_logit"
   ]
  },
  {
   "cell_type": "markdown",
   "metadata": {},
   "source": [
    "# Confusion Matrix 구성하기"
   ]
  },
  {
   "cell_type": "code",
   "execution_count": 75,
   "metadata": {
    "collapsed": true,
    "scrolled": true
   },
   "outputs": [],
   "source": [
    "#각 모형 별로 optimal threshold를 이용하여 binary (0 or 1) 로 예측\n",
    "result['logit_binary']=np.where(result.logit_pred_prob>=optimal_threshold_logit,1,0)"
   ]
  },
  {
   "cell_type": "code",
   "execution_count": 76,
   "metadata": {
    "scrolled": true
   },
   "outputs": [
    {
     "data": {
      "text/plain": [
       "array([[ 50, 121],\n",
       "       [  5,  24]], dtype=int64)"
      ]
     },
     "execution_count": 76,
     "metadata": {},
     "output_type": "execute_result"
    }
   ],
   "source": [
    "logit_con = confusion_matrix(y_test, result.logit_binary)\n",
    "logit_con"
   ]
  },
  {
   "cell_type": "code",
   "execution_count": 77,
   "metadata": {},
   "outputs": [
    {
     "data": {
      "text/plain": [
       "(50, 121, 5, 24)"
      ]
     },
     "execution_count": 77,
     "metadata": {},
     "output_type": "execute_result"
    }
   ],
   "source": [
    "tn, fp, fn, tp = confusion_matrix(y_test, result.logit_binary).ravel()\n",
    "(tn, fp, fn, tp)"
   ]
  },
  {
   "cell_type": "code",
   "execution_count": 78,
   "metadata": {},
   "outputs": [
    {
     "data": {
      "text/plain": [
       "0.82758620689655171"
      ]
     },
     "execution_count": 78,
     "metadata": {},
     "output_type": "execute_result"
    }
   ],
   "source": [
    "tp/(tp+fn) # tpr = sensitivity"
   ]
  },
  {
   "cell_type": "code",
   "execution_count": 79,
   "metadata": {
    "scrolled": true
   },
   "outputs": [
    {
     "data": {
      "text/plain": [
       "0.70760233918128657"
      ]
     },
     "execution_count": 79,
     "metadata": {},
     "output_type": "execute_result"
    }
   ],
   "source": [
    "fp/(tn+fp) # fpr = 1-specificity"
   ]
  },
  {
   "cell_type": "code",
   "execution_count": 80,
   "metadata": {
    "scrolled": true
   },
   "outputs": [
    {
     "data": {
      "text/plain": [
       "0.37"
      ]
     },
     "execution_count": 80,
     "metadata": {},
     "output_type": "execute_result"
    }
   ],
   "source": [
    "(tn+tp)/(tn+fp+fn+tp) # accuracy"
   ]
  },
  {
   "cell_type": "markdown",
   "metadata": {},
   "source": [
    "# LPM과 Logit 비교하기"
   ]
  },
  {
   "cell_type": "code",
   "execution_count": 81,
   "metadata": {},
   "outputs": [
    {
     "data": {
      "image/png": "[encoded data removed]",
      "text/plain": [
       "<matplotlib.figure.Figure at 0x1a619d84b38>"
      ]
     },
     "metadata": {},
     "output_type": "display_data"
    }
   ],
   "source": [
    "#predicted probability 비교하기 (training set)\n",
    "plt.figure()\n",
    "train.logit_pred_prob.plot(kind='kde',xlim=([0,1]), legend=True)\n",
    "train.lpm_pred_prob.plot(kind='kde', color='orange',xlim=([0,1]), legend=True)\n",
    "plt.show()"
   ]
  },
  {
   "cell_type": "code",
   "execution_count": 82,
   "metadata": {},
   "outputs": [
    {
     "data": {
      "image/png": "[encoded data removed]",
      "text/plain": [
       "<matplotlib.figure.Figure at 0x1a619e230f0>"
      ]
     },
     "metadata": {},
     "output_type": "display_data"
    }
   ],
   "source": [
    "# AUROC 비교하기\n",
    "\n",
    "plt.figure()\n",
    "plt.plot(fpr_logit, tpr_logit, label='Logit: ROC curve (area= %0.2f)' % roc_auc_logit)\n",
    "plt.plot(fpr, tpr, color='orange', label='LPM: ROC curve (area= %0.2f)' % roc_auc)\n",
    "\n",
    "##그래프에 직선 추가하기\n",
    "plt.plot([0,1],[0,1],color='navy', linestyle='--')\n",
    "\n",
    "#x축과 y축 구간 설정하기\n",
    "plt.xlim([0,1])\n",
    "plt.ylim([0,1.05])\n",
    "\n",
    "#축 이름 및 그래프 타이틀, 레전드 추가하기\n",
    "plt.xlabel('False Positive Rate')\n",
    "plt.ylabel('True Positive Rate')\n",
    "plt.title('Receiver Operating Characteristic Curve')\n",
    "plt.legend(loc=\"lower right\")\n",
    "\n",
    "plt.show()\n"
   ]
  },
  {
   "cell_type": "markdown",
   "metadata": {},
   "source": [
    "# 실습예제2"
   ]
  },
  {
   "cell_type": "code",
   "execution_count": 83,
   "metadata": {
    "scrolled": true
   },
   "outputs": [
    {
     "data": {
      "text/html": [
       "<div>\n",
       "<style>\n",
       "    .dataframe thead tr:only-child th {\n",
       "        text-align: right;\n",
       "    }\n",
       "\n",
       "    .dataframe thead th {\n",
       "        text-align: left;\n",
       "    }\n",
       "\n",
       "    .dataframe tbody tr th {\n",
       "        vertical-align: top;\n",
       "    }\n",
       "</style>\n",
       "<table border=\"1\" class=\"dataframe\">\n",
       "  <thead>\n",
       "    <tr style=\"text-align: right;\">\n",
       "      <th></th>\n",
       "      <th>PassengerId</th>\n",
       "      <th>Survived</th>\n",
       "      <th>Pclass</th>\n",
       "      <th>Name</th>\n",
       "      <th>Sex</th>\n",
       "      <th>Age</th>\n",
       "      <th>SibSp</th>\n",
       "      <th>Parch</th>\n",
       "      <th>Ticket</th>\n",
       "      <th>Fare</th>\n",
       "      <th>Cabin</th>\n",
       "      <th>Embarked</th>\n",
       "    </tr>\n",
       "  </thead>\n",
       "  <tbody>\n",
       "    <tr>\n",
       "      <th>0</th>\n",
       "      <td>1</td>\n",
       "      <td>0</td>\n",
       "      <td>3</td>\n",
       "      <td>Braund, Mr. Owen Harris</td>\n",
       "      <td>male</td>\n",
       "      <td>22.0</td>\n",
       "      <td>1</td>\n",
       "      <td>0</td>\n",
       "      <td>A/5 21171</td>\n",
       "      <td>7.2500</td>\n",
       "      <td>NaN</td>\n",
       "      <td>S</td>\n",
       "    </tr>\n",
       "    <tr>\n",
       "      <th>1</th>\n",
       "      <td>2</td>\n",
       "      <td>1</td>\n",
       "      <td>1</td>\n",
       "      <td>Cumings, Mrs. John Bradley (Florence Briggs Th...</td>\n",
       "      <td>female</td>\n",
       "      <td>38.0</td>\n",
       "      <td>1</td>\n",
       "      <td>0</td>\n",
       "      <td>PC 17599</td>\n",
       "      <td>71.2833</td>\n",
       "      <td>C85</td>\n",
       "      <td>C</td>\n",
       "    </tr>\n",
       "    <tr>\n",
       "      <th>2</th>\n",
       "      <td>3</td>\n",
       "      <td>1</td>\n",
       "      <td>3</td>\n",
       "      <td>Heikkinen, Miss. Laina</td>\n",
       "      <td>female</td>\n",
       "      <td>26.0</td>\n",
       "      <td>0</td>\n",
       "      <td>0</td>\n",
       "      <td>STON/O2. 3101282</td>\n",
       "      <td>7.9250</td>\n",
       "      <td>NaN</td>\n",
       "      <td>S</td>\n",
       "    </tr>\n",
       "    <tr>\n",
       "      <th>3</th>\n",
       "      <td>4</td>\n",
       "      <td>1</td>\n",
       "      <td>1</td>\n",
       "      <td>Futrelle, Mrs. Jacques Heath (Lily May Peel)</td>\n",
       "      <td>female</td>\n",
       "      <td>35.0</td>\n",
       "      <td>1</td>\n",
       "      <td>0</td>\n",
       "      <td>113803</td>\n",
       "      <td>53.1000</td>\n",
       "      <td>C123</td>\n",
       "      <td>S</td>\n",
       "    </tr>\n",
       "    <tr>\n",
       "      <th>4</th>\n",
       "      <td>5</td>\n",
       "      <td>0</td>\n",
       "      <td>3</td>\n",
       "      <td>Allen, Mr. William Henry</td>\n",
       "      <td>male</td>\n",
       "      <td>35.0</td>\n",
       "      <td>0</td>\n",
       "      <td>0</td>\n",
       "      <td>373450</td>\n",
       "      <td>8.0500</td>\n",
       "      <td>NaN</td>\n",
       "      <td>S</td>\n",
       "    </tr>\n",
       "  </tbody>\n",
       "</table>\n",
       "</div>"
      ],
      "text/plain": [
       "   PassengerId  Survived  Pclass  \\\n",
       "0            1         0       3   \n",
       "1            2         1       1   \n",
       "2            3         1       3   \n",
       "3            4         1       1   \n",
       "4            5         0       3   \n",
       "\n",
       "                                                Name     Sex   Age  SibSp  \\\n",
       "0                            Braund, Mr. Owen Harris    male  22.0      1   \n",
       "1  Cumings, Mrs. John Bradley (Florence Briggs Th...  female  38.0      1   \n",
       "2                             Heikkinen, Miss. Laina  female  26.0      0   \n",
       "3       Futrelle, Mrs. Jacques Heath (Lily May Peel)  female  35.0      1   \n",
       "4                           Allen, Mr. William Henry    male  35.0      0   \n",
       "\n",
       "   Parch            Ticket     Fare Cabin Embarked  \n",
       "0      0         A/5 21171   7.2500   NaN        S  \n",
       "1      0          PC 17599  71.2833   C85        C  \n",
       "2      0  STON/O2. 3101282   7.9250   NaN        S  \n",
       "3      0            113803  53.1000  C123        S  \n",
       "4      0            373450   8.0500   NaN        S  "
      ]
     },
     "execution_count": 83,
     "metadata": {},
     "output_type": "execute_result"
    }
   ],
   "source": [
    "url = 'https://raw.githubusercontent.com/BigDataGal/Python-for-Data-Science/master/titanic-train.csv'\n",
    "titanic = pd.read_csv(url)\n",
    "titanic.columns = ['PassengerId','Survived','Pclass','Name','Sex','Age','SibSp','Parch','Ticket','Fare','Cabin','Embarked']\n",
    "titanic.head()"
   ]
  },
  {
   "cell_type": "markdown",
   "metadata": {
    "collapsed": true
   },
   "source": [
    "##### 변수 설명\n",
    "\n",
    "###### Survived - Survival (0 = No; 1 = Yes)\n",
    "###### Pclass - Passenger Class (1 = 1st; 2 = 2nd; 3 = 3rd)\n",
    "###### Name - Name\n",
    "###### Sex - Sex\n",
    "###### Age - Age\n",
    "###### SibSp - Number of Siblings/Spouses Aboard\n",
    "###### Parch - Number of Parents/Children Aboard\n",
    "###### Ticket - Ticket Number\n",
    "###### Fare - Passenger Fare (British pound)\n",
    "###### Cabin - Cabin\n",
    "###### Embarked - Port of Embarkation (C = Cherbourg; Q = Queenstown; S = Southampton)"
   ]
  },
  {
   "cell_type": "markdown",
   "metadata": {},
   "source": [
    "### 1) 위의 데이터 셋을 이용하여 데이터 클리닝 후 7:3으로 training set과 test set을 구성하라.\n",
    "### (hint: NaN이 있는 변수 처리, 카테고리 변수를 더미화 하기 등)\n",
    "### 2) lpm과 logit model을 이용하여 out-of-sample test를 하고,\n",
    "### 3) 두 모형의 predicted probability를 비교하는 그림을 그려라.\n",
    "### 4) 두 모형의 AUC를 구하고, ROC를 그려라.\n",
    "### 5) 두 모형의 confusion matrix를 구하고, accuracy가 어떻게 다른지 보라.\n",
    "### (이 때 optimal threshold는 sensitivity와 specificity의 합을 가장 높여주는 것으로 한다)"
   ]
  },
  {
   "cell_type": "code",
   "execution_count": 84,
   "metadata": {},
   "outputs": [
    {
     "data": {
      "text/plain": [
       "(891, 12)"
      ]
     },
     "execution_count": 84,
     "metadata": {},
     "output_type": "execute_result"
    }
   ],
   "source": [
    "titanic.shape"
   ]
  },
  {
   "cell_type": "code",
   "execution_count": 85,
   "metadata": {},
   "outputs": [
    {
     "data": {
      "text/plain": [
       "PassengerId      0\n",
       "Survived         0\n",
       "Pclass           0\n",
       "Name             0\n",
       "Sex              0\n",
       "Age            177\n",
       "SibSp            0\n",
       "Parch            0\n",
       "Ticket           0\n",
       "Fare             0\n",
       "Cabin          687\n",
       "Embarked         2\n",
       "dtype: int64"
      ]
     },
     "execution_count": 85,
     "metadata": {},
     "output_type": "execute_result"
    }
   ],
   "source": [
    "# missing values 개수 구하기\n",
    "titanic.isnull().sum()"
   ]
  },
  {
   "cell_type": "code",
   "execution_count": 86,
   "metadata": {},
   "outputs": [
    {
     "data": {
      "text/html": [
       "<div>\n",
       "<style>\n",
       "    .dataframe thead tr:only-child th {\n",
       "        text-align: right;\n",
       "    }\n",
       "\n",
       "    .dataframe thead th {\n",
       "        text-align: left;\n",
       "    }\n",
       "\n",
       "    .dataframe tbody tr th {\n",
       "        vertical-align: top;\n",
       "    }\n",
       "</style>\n",
       "<table border=\"1\" class=\"dataframe\">\n",
       "  <thead>\n",
       "    <tr style=\"text-align: right;\">\n",
       "      <th></th>\n",
       "      <th>Survived</th>\n",
       "      <th>Pclass</th>\n",
       "      <th>Sex</th>\n",
       "      <th>Age</th>\n",
       "      <th>SibSp</th>\n",
       "      <th>Parch</th>\n",
       "      <th>Fare</th>\n",
       "      <th>Embarked</th>\n",
       "    </tr>\n",
       "  </thead>\n",
       "  <tbody>\n",
       "    <tr>\n",
       "      <th>0</th>\n",
       "      <td>0</td>\n",
       "      <td>3</td>\n",
       "      <td>male</td>\n",
       "      <td>22.0</td>\n",
       "      <td>1</td>\n",
       "      <td>0</td>\n",
       "      <td>7.2500</td>\n",
       "      <td>S</td>\n",
       "    </tr>\n",
       "    <tr>\n",
       "      <th>1</th>\n",
       "      <td>1</td>\n",
       "      <td>1</td>\n",
       "      <td>female</td>\n",
       "      <td>38.0</td>\n",
       "      <td>1</td>\n",
       "      <td>0</td>\n",
       "      <td>71.2833</td>\n",
       "      <td>C</td>\n",
       "    </tr>\n",
       "    <tr>\n",
       "      <th>2</th>\n",
       "      <td>1</td>\n",
       "      <td>3</td>\n",
       "      <td>female</td>\n",
       "      <td>26.0</td>\n",
       "      <td>0</td>\n",
       "      <td>0</td>\n",
       "      <td>7.9250</td>\n",
       "      <td>S</td>\n",
       "    </tr>\n",
       "    <tr>\n",
       "      <th>3</th>\n",
       "      <td>1</td>\n",
       "      <td>1</td>\n",
       "      <td>female</td>\n",
       "      <td>35.0</td>\n",
       "      <td>1</td>\n",
       "      <td>0</td>\n",
       "      <td>53.1000</td>\n",
       "      <td>S</td>\n",
       "    </tr>\n",
       "    <tr>\n",
       "      <th>4</th>\n",
       "      <td>0</td>\n",
       "      <td>3</td>\n",
       "      <td>male</td>\n",
       "      <td>35.0</td>\n",
       "      <td>0</td>\n",
       "      <td>0</td>\n",
       "      <td>8.0500</td>\n",
       "      <td>S</td>\n",
       "    </tr>\n",
       "  </tbody>\n",
       "</table>\n",
       "</div>"
      ],
      "text/plain": [
       "   Survived  Pclass     Sex   Age  SibSp  Parch     Fare Embarked\n",
       "0         0       3    male  22.0      1      0   7.2500        S\n",
       "1         1       1  female  38.0      1      0  71.2833        C\n",
       "2         1       3  female  26.0      0      0   7.9250        S\n",
       "3         1       1  female  35.0      1      0  53.1000        S\n",
       "4         0       3    male  35.0      0      0   8.0500        S"
      ]
     },
     "execution_count": 86,
     "metadata": {},
     "output_type": "execute_result"
    }
   ],
   "source": [
    "# survival probability에 영향이 없거나 missing이 너무 많은 변수 제외하기\n",
    "titanic_data = titanic.drop(['PassengerId','Name','Ticket','Cabin'], axis=1)\n",
    "titanic_data.head()"
   ]
  },
  {
   "cell_type": "code",
   "execution_count": 87,
   "metadata": {},
   "outputs": [
    {
     "data": {
      "text/plain": [
       "<matplotlib.axes._subplots.AxesSubplot at 0x1a61aea0c50>"
      ]
     },
     "execution_count": 87,
     "metadata": {},
     "output_type": "execute_result"
    },
    {
     "data": {
      "image/png": "[encoded data removed]",
      "text/plain": [
       "<matplotlib.figure.Figure at 0x1a619ccd240>"
      ]
     },
     "metadata": {},
     "output_type": "display_data"
    }
   ],
   "source": [
    "# Age 변수의 missing value 처리하기\n",
    "# Age 변수와 연관이 있을 것 같은 변수(Pclass)의 box plot을 그림\n",
    "sb.boxplot(x='Pclass', y='Age', data=titanic_data, palette='hls')"
   ]
  },
  {
   "cell_type": "code",
   "execution_count": 88,
   "metadata": {
    "scrolled": false
   },
   "outputs": [
    {
     "data": {
      "text/plain": [
       "Pclass\n",
       "1    38.233441\n",
       "2    29.877630\n",
       "3    25.140620\n",
       "Name: Age, dtype: float64"
      ]
     },
     "execution_count": 88,
     "metadata": {},
     "output_type": "execute_result"
    }
   ],
   "source": [
    "titanic_data.groupby('Pclass').Age.mean()"
   ]
  },
  {
   "cell_type": "code",
   "execution_count": 89,
   "metadata": {
    "collapsed": true
   },
   "outputs": [],
   "source": [
    "df = titanic_data "
   ]
  },
  {
   "cell_type": "code",
   "execution_count": 90,
   "metadata": {
    "collapsed": true
   },
   "outputs": [],
   "source": [
    "df.Age = np.where((df.Age.isnull()==True)&(df.Pclass==1), df.Age[df.Pclass==1].mean(), df.Age)\n",
    "df.Age = np.where((df.Age.isnull()==True)&(df.Pclass==2), df.Age[df.Pclass==2].mean(), df.Age)\n",
    "df.Age = np.where((df.Age.isnull()==True)&(df.Pclass==3), df.Age[df.Pclass==3].mean(), df.Age)"
   ]
  },
  {
   "cell_type": "code",
   "execution_count": 91,
   "metadata": {},
   "outputs": [
    {
     "data": {
      "text/plain": [
       "Survived    0\n",
       "Pclass      0\n",
       "Sex         0\n",
       "Age         0\n",
       "SibSp       0\n",
       "Parch       0\n",
       "Fare        0\n",
       "Embarked    2\n",
       "dtype: int64"
      ]
     },
     "execution_count": 91,
     "metadata": {},
     "output_type": "execute_result"
    }
   ],
   "source": [
    "df.isnull().sum()"
   ]
  },
  {
   "cell_type": "code",
   "execution_count": 92,
   "metadata": {},
   "outputs": [
    {
     "data": {
      "text/plain": [
       "Survived    0\n",
       "Pclass      0\n",
       "Sex         0\n",
       "Age         0\n",
       "SibSp       0\n",
       "Parch       0\n",
       "Fare        0\n",
       "Embarked    0\n",
       "dtype: int64"
      ]
     },
     "execution_count": 92,
     "metadata": {},
     "output_type": "execute_result"
    }
   ],
   "source": [
    "# Embarked 변수의 missing value 2개는 drop 처리\n",
    "titanic_data.dropna(inplace=True)\n",
    "titanic_data.isnull().sum()"
   ]
  },
  {
   "cell_type": "code",
   "execution_count": 93,
   "metadata": {
    "collapsed": true
   },
   "outputs": [],
   "source": [
    "# Categorical 변수인 Sex, Embarked를 get_dummies를 이용하여 dummy변수화\n",
    "gender = pd.get_dummies(titanic_data['Sex'],drop_first=True)\n",
    "embark_location = pd.get_dummies(titanic_data['Embarked'],drop_first=True)"
   ]
  },
  {
   "cell_type": "code",
   "execution_count": 94,
   "metadata": {},
   "outputs": [
    {
     "data": {
      "text/html": [
       "<div>\n",
       "<style>\n",
       "    .dataframe thead tr:only-child th {\n",
       "        text-align: right;\n",
       "    }\n",
       "\n",
       "    .dataframe thead th {\n",
       "        text-align: left;\n",
       "    }\n",
       "\n",
       "    .dataframe tbody tr th {\n",
       "        vertical-align: top;\n",
       "    }\n",
       "</style>\n",
       "<table border=\"1\" class=\"dataframe\">\n",
       "  <thead>\n",
       "    <tr style=\"text-align: right;\">\n",
       "      <th></th>\n",
       "      <th>Survived</th>\n",
       "      <th>Pclass</th>\n",
       "      <th>Age</th>\n",
       "      <th>SibSp</th>\n",
       "      <th>Parch</th>\n",
       "      <th>Fare</th>\n",
       "      <th>male</th>\n",
       "      <th>Q</th>\n",
       "      <th>S</th>\n",
       "    </tr>\n",
       "  </thead>\n",
       "  <tbody>\n",
       "    <tr>\n",
       "      <th>0</th>\n",
       "      <td>0</td>\n",
       "      <td>3</td>\n",
       "      <td>22.0</td>\n",
       "      <td>1</td>\n",
       "      <td>0</td>\n",
       "      <td>7.2500</td>\n",
       "      <td>1</td>\n",
       "      <td>0</td>\n",
       "      <td>1</td>\n",
       "    </tr>\n",
       "    <tr>\n",
       "      <th>1</th>\n",
       "      <td>1</td>\n",
       "      <td>1</td>\n",
       "      <td>38.0</td>\n",
       "      <td>1</td>\n",
       "      <td>0</td>\n",
       "      <td>71.2833</td>\n",
       "      <td>0</td>\n",
       "      <td>0</td>\n",
       "      <td>0</td>\n",
       "    </tr>\n",
       "    <tr>\n",
       "      <th>2</th>\n",
       "      <td>1</td>\n",
       "      <td>3</td>\n",
       "      <td>26.0</td>\n",
       "      <td>0</td>\n",
       "      <td>0</td>\n",
       "      <td>7.9250</td>\n",
       "      <td>0</td>\n",
       "      <td>0</td>\n",
       "      <td>1</td>\n",
       "    </tr>\n",
       "    <tr>\n",
       "      <th>3</th>\n",
       "      <td>1</td>\n",
       "      <td>1</td>\n",
       "      <td>35.0</td>\n",
       "      <td>1</td>\n",
       "      <td>0</td>\n",
       "      <td>53.1000</td>\n",
       "      <td>0</td>\n",
       "      <td>0</td>\n",
       "      <td>1</td>\n",
       "    </tr>\n",
       "    <tr>\n",
       "      <th>4</th>\n",
       "      <td>0</td>\n",
       "      <td>3</td>\n",
       "      <td>35.0</td>\n",
       "      <td>0</td>\n",
       "      <td>0</td>\n",
       "      <td>8.0500</td>\n",
       "      <td>1</td>\n",
       "      <td>0</td>\n",
       "      <td>1</td>\n",
       "    </tr>\n",
       "  </tbody>\n",
       "</table>\n",
       "</div>"
      ],
      "text/plain": [
       "   Survived  Pclass   Age  SibSp  Parch     Fare  male  Q  S\n",
       "0         0       3  22.0      1      0   7.2500     1  0  1\n",
       "1         1       1  38.0      1      0  71.2833     0  0  0\n",
       "2         1       3  26.0      0      0   7.9250     0  0  1\n",
       "3         1       1  35.0      1      0  53.1000     0  0  1\n",
       "4         0       3  35.0      0      0   8.0500     1  0  1"
      ]
     },
     "execution_count": 94,
     "metadata": {},
     "output_type": "execute_result"
    }
   ],
   "source": [
    "# Sex, Embarked를 기존 데이터 셋에서 제외하고 gender와 embark_location을 concatenate한 새로운 데이터 셋 구성\n",
    "titanic_dmy = pd.concat([titanic_data.drop(['Sex', 'Embarked'],axis=1),gender,embark_location],axis=1)\n",
    "titanic_dmy.head()"
   ]
  },
  {
   "cell_type": "code",
   "execution_count": 95,
   "metadata": {},
   "outputs": [
    {
     "data": {
      "text/html": [
       "<div>\n",
       "<style>\n",
       "    .dataframe thead tr:only-child th {\n",
       "        text-align: right;\n",
       "    }\n",
       "\n",
       "    .dataframe thead th {\n",
       "        text-align: left;\n",
       "    }\n",
       "\n",
       "    .dataframe tbody tr th {\n",
       "        vertical-align: top;\n",
       "    }\n",
       "</style>\n",
       "<table border=\"1\" class=\"dataframe\">\n",
       "  <thead>\n",
       "    <tr style=\"text-align: right;\">\n",
       "      <th></th>\n",
       "      <th>Survived</th>\n",
       "      <th>Pclass</th>\n",
       "      <th>Age</th>\n",
       "      <th>SibSp</th>\n",
       "      <th>Parch</th>\n",
       "      <th>Fare</th>\n",
       "      <th>gender</th>\n",
       "      <th>embark_location_Q</th>\n",
       "      <th>embark_location_S</th>\n",
       "    </tr>\n",
       "  </thead>\n",
       "  <tbody>\n",
       "    <tr>\n",
       "      <th>0</th>\n",
       "      <td>0</td>\n",
       "      <td>3</td>\n",
       "      <td>22.0</td>\n",
       "      <td>1</td>\n",
       "      <td>0</td>\n",
       "      <td>7.2500</td>\n",
       "      <td>1</td>\n",
       "      <td>0</td>\n",
       "      <td>1</td>\n",
       "    </tr>\n",
       "    <tr>\n",
       "      <th>1</th>\n",
       "      <td>1</td>\n",
       "      <td>1</td>\n",
       "      <td>38.0</td>\n",
       "      <td>1</td>\n",
       "      <td>0</td>\n",
       "      <td>71.2833</td>\n",
       "      <td>0</td>\n",
       "      <td>0</td>\n",
       "      <td>0</td>\n",
       "    </tr>\n",
       "    <tr>\n",
       "      <th>2</th>\n",
       "      <td>1</td>\n",
       "      <td>3</td>\n",
       "      <td>26.0</td>\n",
       "      <td>0</td>\n",
       "      <td>0</td>\n",
       "      <td>7.9250</td>\n",
       "      <td>0</td>\n",
       "      <td>0</td>\n",
       "      <td>1</td>\n",
       "    </tr>\n",
       "    <tr>\n",
       "      <th>3</th>\n",
       "      <td>1</td>\n",
       "      <td>1</td>\n",
       "      <td>35.0</td>\n",
       "      <td>1</td>\n",
       "      <td>0</td>\n",
       "      <td>53.1000</td>\n",
       "      <td>0</td>\n",
       "      <td>0</td>\n",
       "      <td>1</td>\n",
       "    </tr>\n",
       "    <tr>\n",
       "      <th>4</th>\n",
       "      <td>0</td>\n",
       "      <td>3</td>\n",
       "      <td>35.0</td>\n",
       "      <td>0</td>\n",
       "      <td>0</td>\n",
       "      <td>8.0500</td>\n",
       "      <td>1</td>\n",
       "      <td>0</td>\n",
       "      <td>1</td>\n",
       "    </tr>\n",
       "  </tbody>\n",
       "</table>\n",
       "</div>"
      ],
      "text/plain": [
       "   Survived  Pclass   Age  SibSp  Parch     Fare  gender  embark_location_Q  \\\n",
       "0         0       3  22.0      1      0   7.2500       1                  0   \n",
       "1         1       1  38.0      1      0  71.2833       0                  0   \n",
       "2         1       3  26.0      0      0   7.9250       0                  0   \n",
       "3         1       1  35.0      1      0  53.1000       0                  0   \n",
       "4         0       3  35.0      0      0   8.0500       1                  0   \n",
       "\n",
       "   embark_location_S  \n",
       "0                  1  \n",
       "1                  0  \n",
       "2                  1  \n",
       "3                  1  \n",
       "4                  1  "
      ]
     },
     "execution_count": 95,
     "metadata": {},
     "output_type": "execute_result"
    }
   ],
   "source": [
    "# 열 이름 변경\n",
    "titanic_dmy.rename(columns={'male':'gender','Q':'embark_location_Q','S':'embark_location_S'}, inplace=True)\n",
    "titanic_dmy.head()"
   ]
  },
  {
   "cell_type": "code",
   "execution_count": 96,
   "metadata": {},
   "outputs": [
    {
     "data": {
      "text/html": [
       "<div>\n",
       "<style>\n",
       "    .dataframe thead tr:only-child th {\n",
       "        text-align: right;\n",
       "    }\n",
       "\n",
       "    .dataframe thead th {\n",
       "        text-align: left;\n",
       "    }\n",
       "\n",
       "    .dataframe tbody tr th {\n",
       "        vertical-align: top;\n",
       "    }\n",
       "</style>\n",
       "<table border=\"1\" class=\"dataframe\">\n",
       "  <thead>\n",
       "    <tr style=\"text-align: right;\">\n",
       "      <th></th>\n",
       "      <th>Survived</th>\n",
       "      <th>Pclass</th>\n",
       "      <th>Age</th>\n",
       "      <th>SibSp</th>\n",
       "      <th>Parch</th>\n",
       "      <th>Fare</th>\n",
       "      <th>gender</th>\n",
       "      <th>embark_location_Q</th>\n",
       "      <th>embark_location_S</th>\n",
       "    </tr>\n",
       "  </thead>\n",
       "  <tbody>\n",
       "    <tr>\n",
       "      <th>count</th>\n",
       "      <td>889.000000</td>\n",
       "      <td>889.000000</td>\n",
       "      <td>889.000000</td>\n",
       "      <td>889.000000</td>\n",
       "      <td>889.000000</td>\n",
       "      <td>889.000000</td>\n",
       "      <td>889.000000</td>\n",
       "      <td>889.000000</td>\n",
       "      <td>889.000000</td>\n",
       "    </tr>\n",
       "    <tr>\n",
       "      <th>mean</th>\n",
       "      <td>0.382452</td>\n",
       "      <td>2.311586</td>\n",
       "      <td>29.246290</td>\n",
       "      <td>0.524184</td>\n",
       "      <td>0.382452</td>\n",
       "      <td>32.096681</td>\n",
       "      <td>0.649044</td>\n",
       "      <td>0.086614</td>\n",
       "      <td>0.724409</td>\n",
       "    </tr>\n",
       "    <tr>\n",
       "      <th>std</th>\n",
       "      <td>0.486260</td>\n",
       "      <td>0.834700</td>\n",
       "      <td>13.176451</td>\n",
       "      <td>1.103705</td>\n",
       "      <td>0.806761</td>\n",
       "      <td>49.697504</td>\n",
       "      <td>0.477538</td>\n",
       "      <td>0.281427</td>\n",
       "      <td>0.447063</td>\n",
       "    </tr>\n",
       "    <tr>\n",
       "      <th>min</th>\n",
       "      <td>0.000000</td>\n",
       "      <td>1.000000</td>\n",
       "      <td>0.420000</td>\n",
       "      <td>0.000000</td>\n",
       "      <td>0.000000</td>\n",
       "      <td>0.000000</td>\n",
       "      <td>0.000000</td>\n",
       "      <td>0.000000</td>\n",
       "      <td>0.000000</td>\n",
       "    </tr>\n",
       "    <tr>\n",
       "      <th>25%</th>\n",
       "      <td>0.000000</td>\n",
       "      <td>2.000000</td>\n",
       "      <td>22.000000</td>\n",
       "      <td>0.000000</td>\n",
       "      <td>0.000000</td>\n",
       "      <td>7.895800</td>\n",
       "      <td>0.000000</td>\n",
       "      <td>0.000000</td>\n",
       "      <td>0.000000</td>\n",
       "    </tr>\n",
       "    <tr>\n",
       "      <th>50%</th>\n",
       "      <td>0.000000</td>\n",
       "      <td>3.000000</td>\n",
       "      <td>26.000000</td>\n",
       "      <td>0.000000</td>\n",
       "      <td>0.000000</td>\n",
       "      <td>14.454200</td>\n",
       "      <td>1.000000</td>\n",
       "      <td>0.000000</td>\n",
       "      <td>1.000000</td>\n",
       "    </tr>\n",
       "    <tr>\n",
       "      <th>75%</th>\n",
       "      <td>1.000000</td>\n",
       "      <td>3.000000</td>\n",
       "      <td>36.500000</td>\n",
       "      <td>1.000000</td>\n",
       "      <td>0.000000</td>\n",
       "      <td>31.000000</td>\n",
       "      <td>1.000000</td>\n",
       "      <td>0.000000</td>\n",
       "      <td>1.000000</td>\n",
       "    </tr>\n",
       "    <tr>\n",
       "      <th>max</th>\n",
       "      <td>1.000000</td>\n",
       "      <td>3.000000</td>\n",
       "      <td>80.000000</td>\n",
       "      <td>8.000000</td>\n",
       "      <td>6.000000</td>\n",
       "      <td>512.329200</td>\n",
       "      <td>1.000000</td>\n",
       "      <td>1.000000</td>\n",
       "      <td>1.000000</td>\n",
       "    </tr>\n",
       "  </tbody>\n",
       "</table>\n",
       "</div>"
      ],
      "text/plain": [
       "         Survived      Pclass         Age       SibSp       Parch        Fare  \\\n",
       "count  889.000000  889.000000  889.000000  889.000000  889.000000  889.000000   \n",
       "mean     0.382452    2.311586   29.246290    0.524184    0.382452   32.096681   \n",
       "std      0.486260    0.834700   13.176451    1.103705    0.806761   49.697504   \n",
       "min      0.000000    1.000000    0.420000    0.000000    0.000000    0.000000   \n",
       "25%      0.000000    2.000000   22.000000    0.000000    0.000000    7.895800   \n",
       "50%      0.000000    3.000000   26.000000    0.000000    0.000000   14.454200   \n",
       "75%      1.000000    3.000000   36.500000    1.000000    0.000000   31.000000   \n",
       "max      1.000000    3.000000   80.000000    8.000000    6.000000  512.329200   \n",
       "\n",
       "           gender  embark_location_Q  embark_location_S  \n",
       "count  889.000000         889.000000         889.000000  \n",
       "mean     0.649044           0.086614           0.724409  \n",
       "std      0.477538           0.281427           0.447063  \n",
       "min      0.000000           0.000000           0.000000  \n",
       "25%      0.000000           0.000000           0.000000  \n",
       "50%      1.000000           0.000000           1.000000  \n",
       "75%      1.000000           0.000000           1.000000  \n",
       "max      1.000000           1.000000           1.000000  "
      ]
     },
     "execution_count": 96,
     "metadata": {},
     "output_type": "execute_result"
    }
   ],
   "source": [
    "titanic_dmy.describe()"
   ]
  },
  {
   "cell_type": "code",
   "execution_count": 97,
   "metadata": {},
   "outputs": [
    {
     "name": "stdout",
     "output_type": "stream",
     "text": [
      "(622, 9)\n",
      "(267, 9)\n"
     ]
    }
   ],
   "source": [
    "# 이하는 실습 시간에 진행한 내용과 동일\n",
    "df = DataFrame(titanic_dmy)\n",
    "train2, test2 = np.split(df.sample(frac=1), [int(.7*len(df))])\n",
    "print(train2.shape)\n",
    "print(test2.shape)"
   ]
  },
  {
   "cell_type": "code",
   "execution_count": 98,
   "metadata": {
    "collapsed": true
   },
   "outputs": [],
   "source": [
    "# 종속 변수, 설명 변수 설정\n",
    "y_train2 = train2['Survived']\n",
    "X_train2 = train2.drop('Survived',axis=1)\n",
    "y_test2 = test2['Survived']\n",
    "X_test2 = test2.drop('Survived',axis=1)"
   ]
  },
  {
   "cell_type": "code",
   "execution_count": 99,
   "metadata": {},
   "outputs": [
    {
     "data": {
      "text/plain": [
       "LinearRegression(copy_X=True, fit_intercept=True, n_jobs=1, normalize=False)"
      ]
     },
     "execution_count": 99,
     "metadata": {},
     "output_type": "execute_result"
    }
   ],
   "source": [
    "# lpm 모형\n",
    "lpm = LinearRegression(fit_intercept=True) \n",
    "lpm.fit(X_train2,y_train2)"
   ]
  },
  {
   "cell_type": "code",
   "execution_count": 100,
   "metadata": {},
   "outputs": [
    {
     "data": {
      "text/plain": [
       "LogisticRegression(C=1.0, class_weight=None, dual=False, fit_intercept=True,\n",
       "          intercept_scaling=1, max_iter=100, multi_class='ovr', n_jobs=1,\n",
       "          penalty='l2', random_state=None, solver='liblinear', tol=0.0001,\n",
       "          verbose=0, warm_start=False)"
      ]
     },
     "execution_count": 100,
     "metadata": {},
     "output_type": "execute_result"
    }
   ],
   "source": [
    "# 로짓 모형\n",
    "logit = LogisticRegression(fit_intercept=True)\n",
    "logit.fit(X_train2,y_train2)"
   ]
  },
  {
   "cell_type": "code",
   "execution_count": 102,
   "metadata": {},
   "outputs": [],
   "source": [
    "result2 = lpm.predict(X_test2)\n",
    "result2 = DataFrame(result2)\n",
    "result2.columns=['lpm_pred_prob']\n",
    "result2['logit_pred_prob'] = logit.predict_proba(X_test2)[:,1]"
   ]
  },
  {
   "cell_type": "code",
   "execution_count": 103,
   "metadata": {},
   "outputs": [
    {
     "data": {
      "image/png": "[encoded data removed]",
      "text/plain": [
       "<matplotlib.figure.Figure at 0x1a61af2ab00>"
      ]
     },
     "metadata": {},
     "output_type": "display_data"
    }
   ],
   "source": [
    "plt.figure()\n",
    "result2.logit_pred_prob.plot(kind='kde',xlim=([0,1]), legend=True)\n",
    "result2.lpm_pred_prob.plot(kind='kde', color='orange',xlim=([0,1]), legend=True)\n",
    "plt.show()"
   ]
  },
  {
   "cell_type": "code",
   "execution_count": 104,
   "metadata": {
    "collapsed": true
   },
   "outputs": [],
   "source": [
    "fpr_lpm, tpr_lpm, thresholds_lpm = roc_curve(y_test2, result2.lpm_pred_prob)\n",
    "fpr_logit,tpr_logit,thresholds_logit = roc_curve(y_test2, result2.logit_pred_prob)"
   ]
  },
  {
   "cell_type": "code",
   "execution_count": 105,
   "metadata": {
    "collapsed": true
   },
   "outputs": [],
   "source": [
    "roc_auc_lpm = auc(fpr_lpm, tpr_lpm)\n",
    "roc_auc_logit = auc(fpr_logit, tpr_logit)"
   ]
  },
  {
   "cell_type": "code",
   "execution_count": 106,
   "metadata": {},
   "outputs": [
    {
     "data": {
      "image/png": "[encoded data removed]",
      "text/plain": [
       "<matplotlib.figure.Figure at 0x1a61af856d8>"
      ]
     },
     "metadata": {},
     "output_type": "display_data"
    }
   ],
   "source": [
    "plt.figure()\n",
    "plt.plot(fpr_logit, tpr_logit, label='Logit: ROC curve (area= %0.2f)' % roc_auc_logit)\n",
    "plt.plot(fpr_lpm, tpr_lpm, color='orange', label='LPM: ROC curve (area= %0.2f)' % roc_auc_lpm)\n",
    "\n",
    "##그래프에 직선 추가하기\n",
    "plt.plot([0,1],[0,1],color='navy', linestyle='--')\n",
    "\n",
    "#x축과 y축 구간 설정하기\n",
    "plt.xlim([0,1])\n",
    "plt.ylim([0,1.05])\n",
    "\n",
    "#축 이름 및 그래프 타이틀, 레전드 추가하기\n",
    "plt.xlabel('False Positive Rate')\n",
    "plt.ylabel('True Positive Rate')\n",
    "plt.title('Receiver Operating Characteristic Curve')\n",
    "plt.legend(loc=\"lower right\")\n",
    "\n",
    "plt.show()"
   ]
  },
  {
   "cell_type": "code",
   "execution_count": 107,
   "metadata": {},
   "outputs": [
    {
     "data": {
      "text/plain": [
       "0.66578746901322761"
      ]
     },
     "execution_count": 107,
     "metadata": {},
     "output_type": "execute_result"
    }
   ],
   "source": [
    "roc_result2 = DataFrame([fpr_lpm,tpr_lpm,thresholds_lpm], index=['fpr_lpm','tpr_lpm','thresholds_lpm']).T\n",
    "roc_result2['best_lpm'] = (1-roc_result2.fpr_lpm)+(roc_result2.tpr_lpm)\n",
    "optimal_threshold_lpm = roc_result2.thresholds_lpm[roc_result2.best_lpm.idxmax()] \n",
    "optimal_threshold_lpm"
   ]
  },
  {
   "cell_type": "code",
   "execution_count": 108,
   "metadata": {
    "scrolled": true
   },
   "outputs": [
    {
     "data": {
      "text/plain": [
       "0.50168281927589731"
      ]
     },
     "execution_count": 108,
     "metadata": {},
     "output_type": "execute_result"
    }
   ],
   "source": [
    "roc_result2 = DataFrame([fpr_logit,tpr_logit,thresholds_logit], index=['fpr_logit','tpr_logit','thresholds_logit']).T\n",
    "roc_result2['best_logit'] = (1-roc_result2['fpr_logit'])+(roc_result2['tpr_logit'])\n",
    "optimal_threshold_logit=roc_result2.thresholds_logit[roc_result2.best_logit.idxmax()]\n",
    "optimal_threshold_logit"
   ]
  },
  {
   "cell_type": "code",
   "execution_count": 109,
   "metadata": {
    "collapsed": true,
    "scrolled": true
   },
   "outputs": [],
   "source": [
    "#각 모형 별로 optimal threshold를 이용하여 binary (0 or 1) 로 예측\n",
    "result2['lpm_binary']   = np.where(result2.lpm_pred_prob   >= optimal_threshold_lpm,1,0)\n",
    "result2['logit_binary'] = np.where(result2.logit_pred_prob >= optimal_threshold_logit,1,0)"
   ]
  },
  {
   "cell_type": "code",
   "execution_count": 110,
   "metadata": {
    "collapsed": true
   },
   "outputs": [],
   "source": [
    "tn, fp, fn, tp = confusion_matrix(y_test2, result2.lpm_binary).ravel()\n",
    "lpm_accuracy = (tn+tp)/(tn+fp+fn+tp)"
   ]
  },
  {
   "cell_type": "code",
   "execution_count": 111,
   "metadata": {
    "collapsed": true
   },
   "outputs": [],
   "source": [
    "tn, fp, fn, tp = confusion_matrix(y_test2, result2.logit_binary).ravel()\n",
    "logit_accuracy = (tn+tp)/(tn+fp+fn+tp)"
   ]
  },
  {
   "cell_type": "code",
   "execution_count": 112,
   "metadata": {},
   "outputs": [
    {
     "name": "stdout",
     "output_type": "stream",
     "text": [
      "선형확률모형의 accuracy는 0.82 이다.\n",
      "로짓모형의 accuracy는 0.79 이다.\n"
     ]
    }
   ],
   "source": [
    "print(\"선형확률모형의 accuracy는 %0.2f 이다.\" % lpm_accuracy)\n",
    "print(\"로짓모형의 accuracy는 %0.2f 이다.\" % logit_accuracy)"
   ]
  }
 ],
 "metadata": {
  "kernelspec": {
   "display_name": "Python 3",
   "language": "python",
   "name": "python3"
  },
  "language_info": {
   "codemirror_mode": {
    "name": "ipython",
    "version": 3
   },
   "file_extension": ".py",
   "mimetype": "text/x-python",
   "name": "python",
   "nbconvert_exporter": "python",
   "pygments_lexer": "ipython3",
   "version": "3.6.3"
  }
 },
 "nbformat": 4,
 "nbformat_minor": 2
}
